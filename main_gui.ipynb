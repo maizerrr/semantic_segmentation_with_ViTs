{
 "cells": [
  {
   "cell_type": "code",
   "execution_count": 1,
   "id": "b5fd3046",
   "metadata": {},
   "outputs": [],
   "source": [
    "import os, sys, time\n",
    "import torch\n",
    "from IPython.display import HTML, display\n",
    "\n",
    "from main import main\n",
    "from network import modeling"
   ]
  },
  {
   "cell_type": "code",
   "execution_count": 2,
   "id": "b855596b",
   "metadata": {},
   "outputs": [],
   "source": [
    "models = {\n",
    "    'deeplabv3plus_mobilenet': {'batch_size': 32, 'val_batch_size': 32},\n",
    "    'deeplabv3plus_xception': {'batch_size': 16, 'val_batch_size': 16},\n",
    "    'deeplabv3plus_resnet101': {'batch_size': 16, 'val_batch_size': 16},\n",
    "    'segmenter_vit_base': {'batch_size': 1, 'val_batch_size': 1},\n",
    "    'mae_segmenter_vit_base': {'batch_size': 2, 'val_batch_size': 2},\n",
    "    'mae_segmenter_vit_huge': {'batch_size': 1, 'val_batch_size': 1}\n",
    "}"
   ]
  },
  {
   "cell_type": "code",
   "execution_count": 3,
   "id": "029005fb",
   "metadata": {},
   "outputs": [],
   "source": [
    "def train(model, use_ckpt=False):\n",
    "    config = models[model]\n",
    "    ckpt = f\"checkpoints/latest_{model}_cityscapes_os16.pth\"\n",
    "    command = f\"python main.py --model {model} --dataset cityscapes --gpu_id 0 --total_epochs 100 --base_lr 0.1 --loss_type focal_loss --crop_size 768 --batch_size {config['batch_size']} --val_batch_size {config['val_batch_size']} --use_amp --output_stride 16 --data_root ./datasets/data/cityscapes\"\n",
    "    if use_ckpt and os.path.exists(ckpt):\n",
    "        command += f\" --ckpt {ckpt} --continue_training\"\n",
    "    sys.argv = command.split()[1:]\n",
    "    print(\"--------------------------------------------------\")\n",
    "    print(f\"Train model {model} with command:\")\n",
    "    print(command)\n",
    "    print(\"--------------------------------------------------\")\n",
    "    main()\n",
    "    \n",
    "def test(model):\n",
    "    config = models[model]\n",
    "    ckpt = f\"checkpoints/best_{model}_cityscapes_os16.pth\"\n",
    "    if not os.path.exists(ckpt):\n",
    "        print(f\"Test model failed, cannot find trained weights {ckpt}\")\n",
    "    else:\n",
    "        command = f\"python main.py --model {model} --dataset cityscapes --gpu_id 0 --val_batch_size {config['val_batch_size']} --use_amp --output_stride 16 --data_root ./datasets/data/cityscapes --test_only --ckpt {ckpt}\"\n",
    "        sys.argv = command.split()[1:]\n",
    "        print(\"--------------------------------------------------\")\n",
    "        print(f\"Evaluate model {model} with command:\")\n",
    "        print(command)\n",
    "        print(\"--------------------------------------------------\")\n",
    "        main()\n",
    "        performance(model, ckpt)\n",
    "        \n",
    "def performance(model, ckpt):\n",
    "    if not torch.cuda.is_available():\n",
    "        return\n",
    "    torch.cuda.empty_cache()\n",
    "    device = torch.device('cuda')\n",
    "    m = modeling.__dict__[model](num_classes=19, output_stride=16)\n",
    "    m.load_state_dict(torch.load(ckpt, map_location=torch.device('cpu'))['model_state'])\n",
    "    m = m.to(device)\n",
    "    m.eval()\n",
    "    with torch.no_grad():\n",
    "        avg_time_cost = 0.0\n",
    "        for i in range(10):\n",
    "            X = torch.rand((1,3,1024,2048)).to(device)\n",
    "            time_cost = time.time()\n",
    "            Y = m(X)\n",
    "            avg_time_cost += time.time() - time_cost\n",
    "    del m\n",
    "    torch.cuda.empty_cache()\n",
    "    avg_time_cost /= 10.0\n",
    "    print(f\"Time cost per input: {avg_time_cost*1000:0.1f}ms, FPS={int(1/avg_time_cost):d}\")"
   ]
  },
  {
   "cell_type": "code",
   "execution_count": 4,
   "id": "27ddc5dc",
   "metadata": {
    "scrolled": true
   },
   "outputs": [
    {
     "data": {
      "text/html": [
       "\n",
       "<div style=\"margin-bottom: 10px;\">\n",
       "  <label for=\"model\">Select Model:</label>\n",
       "  <select id=\"model\">\n",
       "    <option value=\"deeplabv3plus_mobilenet\">deeplabv3plus_mobilenet</option><option value=\"deeplabv3plus_xception\">deeplabv3plus_xception</option><option value=\"deeplabv3plus_resnet101\">deeplabv3plus_resnet101</option><option value=\"segmenter_vit_base\">segmenter_vit_base</option><option value=\"mae_segmenter_vit_base\">mae_segmenter_vit_base</option><option value=\"mae_segmenter_vit_huge\">mae_segmenter_vit_huge</option>\n",
       "  </select>\n",
       "</div>\n",
       "<div style=\"margin-bottom: 10px;\">\n",
       "  <label for=\"ckpt\">Use Checkpoint:</label>\n",
       "  <select id=\"ckpt\">\n",
       "    <option value=\"true\">True</option>\n",
       "    <option value=\"false\">False</option>\n",
       "  </select>\n",
       "</div>\n",
       "<div style=\"margin-bottom: 10px;\">\n",
       "  <label for=\"action\">Select Action:</label>\n",
       "  <select id=\"action\">\n",
       "    <option value=\"train\">Train</option>\n",
       "    <option value=\"test\">Test</option>\n",
       "    <option value=\"train_test\">Train and Test</option>\n",
       "  </select>\n",
       "</div>\n",
       "\n",
       "<script>\n",
       "  document.getElementById('model').onchange = function() {\n",
       "    IPython.notebook.kernel.execute('user_selection[\"model\"] = \"' + this.value + '\"');\n",
       "  };\n",
       "  document.getElementById('ckpt').onchange = function() {\n",
       "    IPython.notebook.kernel.execute('user_selection[\"use_ckpt\"] = \"' + this.value + '\"');\n",
       "  };\n",
       "  document.getElementById('action').onchange = function() {\n",
       "    let ckpt = document.getElementById('ckpt')\n",
       "    if (this.value === 'test') {\n",
       "      ckpt.value = 'false'\n",
       "      ckpt.disabled = true\n",
       "    } else {\n",
       "      ckpt.disabled = false\n",
       "    }\n",
       "    IPython.notebook.kernel.execute('user_selection[\"action\"] = \"' + this.value + '\"');\n",
       "  };\n",
       "</script>\n"
      ],
      "text/plain": [
       "<IPython.core.display.HTML object>"
      ]
     },
     "metadata": {},
     "output_type": "display_data"
    }
   ],
   "source": [
    "user_selection = {\n",
    "    'model': 'mae_segmenter_vit_base',\n",
    "    'use_ckpt': 'false',\n",
    "    'action': 'test'\n",
    "}\n",
    "\n",
    "dropdown_options = \"\"\n",
    "for model in models.keys():\n",
    "    dropdown_options += f'<option value=\"{model}\">{model}</option>'\n",
    "\n",
    "dropdown_menu = f'''\n",
    "<div style=\"margin-bottom: 10px;\">\n",
    "  <label for=\"model\">Select Model:</label>\n",
    "  <select id=\"model\">\n",
    "    {dropdown_options}\n",
    "  </select>\n",
    "</div>\n",
    "<div style=\"margin-bottom: 10px;\">\n",
    "  <label for=\"ckpt\">Use Checkpoint:</label>\n",
    "  <select id=\"ckpt\">\n",
    "    <option value=\"true\">True</option>\n",
    "    <option value=\"false\">False</option>\n",
    "  </select>\n",
    "</div>\n",
    "<div style=\"margin-bottom: 10px;\">\n",
    "  <label for=\"action\">Select Action:</label>\n",
    "  <select id=\"action\">\n",
    "    <option value=\"train\">Train</option>\n",
    "    <option value=\"test\">Test</option>\n",
    "    <option value=\"train_test\">Train and Test</option>\n",
    "  </select>\n",
    "</div>\n",
    "'''\n",
    "\n",
    "dropdown_menu += '''\n",
    "<script>\n",
    "  document.getElementById('model').onchange = function() {\n",
    "    IPython.notebook.kernel.execute('user_selection[\"model\"] = \"' + this.value + '\"');\n",
    "  };\n",
    "  document.getElementById('ckpt').onchange = function() {\n",
    "    IPython.notebook.kernel.execute('user_selection[\"use_ckpt\"] = \"' + this.value + '\"');\n",
    "  };\n",
    "  document.getElementById('action').onchange = function() {\n",
    "    let ckpt = document.getElementById('ckpt')\n",
    "    if (this.value === 'test') {\n",
    "      ckpt.value = 'false'\n",
    "      ckpt.disabled = true\n",
    "    } else {\n",
    "      ckpt.disabled = false\n",
    "    }\n",
    "    IPython.notebook.kernel.execute('user_selection[\"action\"] = \"' + this.value + '\"');\n",
    "  };\n",
    "</script>\n",
    "'''\n",
    "\n",
    "display(HTML(dropdown_menu))"
   ]
  },
  {
   "cell_type": "code",
   "execution_count": 5,
   "id": "89f7513e",
   "metadata": {
    "scrolled": false
   },
   "outputs": [
    {
     "name": "stdout",
     "output_type": "stream",
     "text": [
      "--------------------------------------------------\n",
      "Evaluate model mae_segmenter_vit_base with command:\n",
      "python main.py --model mae_segmenter_vit_base --dataset cityscapes --gpu_id 0 --val_batch_size 2 --use_amp --output_stride 16 --data_root ./datasets/data/cityscapes --test_only --ckpt checkpoints/best_mae_segmenter_vit_base_cityscapes_os16.pth\n",
      "--------------------------------------------------\n",
      "Device: cuda\n",
      "Dataset: cityscapes, Train set: 2975, Val set: 500\n",
      "Model restored from checkpoints/best_mae_segmenter_vit_base_cityscapes_os16.pth\n"
     ]
    },
    {
     "name": "stderr",
     "output_type": "stream",
     "text": [
      "250it [01:54,  2.19it/s]\n"
     ]
    },
    {
     "name": "stdout",
     "output_type": "stream",
     "text": [
      "\n",
      "Overall Acc: 0.957513\n",
      "Mean Acc: 0.829954\n",
      "FreqW Acc: 0.921731\n",
      "Mean IoU: 0.752829\n",
      "\n",
      "Time cost per input: 271.7ms, FPS=3\n"
     ]
    }
   ],
   "source": [
    "if \"train\" in user_selection[\"action\"]:\n",
    "    train(user_selection[\"model\"], user_selection[\"use_ckpt\"]=='true')\n",
    "if \"test\" in user_selection[\"action\"]:\n",
    "    test(user_selection[\"model\"])"
   ]
  },
  {
   "cell_type": "code",
   "execution_count": null,
   "id": "6b95953a",
   "metadata": {},
   "outputs": [],
   "source": []
  }
 ],
 "metadata": {
  "kernelspec": {
   "display_name": "Python [conda env:pytorch] *",
   "language": "python",
   "name": "conda-env-pytorch-py"
  },
  "language_info": {
   "codemirror_mode": {
    "name": "ipython",
    "version": 3
   },
   "file_extension": ".py",
   "mimetype": "text/x-python",
   "name": "python",
   "nbconvert_exporter": "python",
   "pygments_lexer": "ipython3",
   "version": "3.10.13"
  }
 },
 "nbformat": 4,
 "nbformat_minor": 5
}
