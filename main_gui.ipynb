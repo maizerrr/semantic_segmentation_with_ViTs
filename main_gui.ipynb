{
 "cells": [
  {
   "cell_type": "code",
   "execution_count": 1,
   "id": "b5fd3046",
   "metadata": {},
   "outputs": [],
   "source": [
    "import os, sys, time\n",
    "import torch\n",
    "from IPython.display import HTML, display\n",
    "\n",
    "from main import main\n",
    "from network import modeling"
   ]
  },
  {
   "cell_type": "code",
   "execution_count": 2,
   "id": "b855596b",
   "metadata": {},
   "outputs": [],
   "source": [
    "models = {\n",
    "    'deeplabv3plus_mobilenet': {'batch_size': 16, 'val_batch_size': 16},\n",
    "    'deeplabv3plus_xception': {'batch_size': 16, 'val_batch_size': 16},\n",
    "    'deeplabv3plus_resnet101': {'batch_size': 16, 'val_batch_size': 16},\n",
    "    'segmenter_vit_large': {'batch_size': 1, 'val_batch_size': 1},\n",
    "    'mae_segmenter_vit_base': {'batch_size': 2, 'val_batch_size': 2},\n",
    "    'mae_segmenter_vit_base_deconv': {'batch_size': 2, 'val_batch_size': 2},\n",
    "    'mae_segmenter_vit_base_mask': {'batch_size': 1, 'val_batch_size': 1},\n",
    "    'mae_segmenter_vit_huge': {'batch_size': 1, 'val_batch_size': 1}\n",
    "}"
   ]
  },
  {
   "cell_type": "code",
   "execution_count": 3,
   "id": "029005fb",
   "metadata": {},
   "outputs": [],
   "source": [
    "def train(model, use_ckpt=False):\n",
    "    config = models[model]\n",
    "    ckpt = f\"checkpoints/latest_{model}_cityscapes_os16.pth\"\n",
    "    command = f\"python main.py --model {model} --dataset cityscapes --gpu_id 0 --total_epochs 100 --base_lr 0.1 --loss_type focal_loss --crop_size 768 --batch_size {config['batch_size']} --val_batch_size {config['val_batch_size']} --use_amp --output_stride 16 --data_root ./datasets/data/cityscapes\"\n",
    "    if use_ckpt and os.path.exists(ckpt):\n",
    "        command += f\" --ckpt {ckpt} --continue_training\"\n",
    "    sys.argv = command.split()[1:]\n",
    "    print(\"--------------------------------------------------\")\n",
    "    print(f\"Train model {model} with command:\")\n",
    "    print(command)\n",
    "    print(\"--------------------------------------------------\")\n",
    "    main()\n",
    "    \n",
    "def test(model):\n",
    "    config = models[model]\n",
    "    ckpt = f\"checkpoints/best_{model}_cityscapes_os16.pth\"\n",
    "    if not os.path.exists(ckpt):\n",
    "        print(f\"Test model failed, cannot find trained weights {ckpt}\")\n",
    "    else:\n",
    "        command = f\"python main.py --model {model} --dataset cityscapes --gpu_id 0 --val_batch_size {config['val_batch_size']} --use_amp --output_stride 16 --data_root ./datasets/data/cityscapes --test_only --ckpt {ckpt}\"\n",
    "        sys.argv = command.split()[1:]\n",
    "        print(\"--------------------------------------------------\")\n",
    "        print(f\"Evaluate model {model} with command:\")\n",
    "        print(command)\n",
    "        print(\"--------------------------------------------------\")\n",
    "        main()\n",
    "        performance(model, ckpt)\n",
    "        \n",
    "def performance(model, ckpt):\n",
    "    if not torch.cuda.is_available():\n",
    "        return\n",
    "    torch.cuda.empty_cache()\n",
    "    device = torch.device('cuda')\n",
    "    m = modeling.__dict__[model](num_classes=19, output_stride=16)\n",
    "    m.load_state_dict(torch.load(ckpt, map_location=torch.device('cpu'))['model_state'])\n",
    "    m = m.to(device)\n",
    "    m.eval()\n",
    "    with torch.no_grad():\n",
    "        avg_time_cost = 0.0\n",
    "        for i in range(10):\n",
    "            X = torch.rand((1,3,1024,2048)).to(device)\n",
    "            time_cost = time.time()\n",
    "            Y = m(X)\n",
    "            avg_time_cost += time.time() - time_cost\n",
    "    del m\n",
    "    torch.cuda.empty_cache()\n",
    "    avg_time_cost /= 10.0\n",
    "    print(f\"Time cost per input: {avg_time_cost*1000:0.1f}ms, FPS={int(1/avg_time_cost):d}\")"
   ]
  },
  {
   "cell_type": "code",
   "execution_count": 4,
   "id": "27ddc5dc",
   "metadata": {
    "scrolled": false
   },
   "outputs": [
    {
     "data": {
      "text/html": [
       "\n",
       "<div style=\"margin-bottom: 10px;\">\n",
       "  <label for=\"model\">Select Model:</label>\n",
       "  <select id=\"model\">\n",
       "    <option value=\"deeplabv3plus_mobilenet\">deeplabv3plus_mobilenet</option><option value=\"deeplabv3plus_xception\">deeplabv3plus_xception</option><option value=\"deeplabv3plus_resnet101\">deeplabv3plus_resnet101</option><option value=\"segmenter_vit_large\">segmenter_vit_large</option><option value=\"mae_segmenter_vit_base\">mae_segmenter_vit_base</option><option value=\"mae_segmenter_vit_base_deconv\">mae_segmenter_vit_base_deconv</option><option value=\"mae_segmenter_vit_base_mask\">mae_segmenter_vit_base_mask</option><option value=\"mae_segmenter_vit_huge\">mae_segmenter_vit_huge</option>\n",
       "  </select>\n",
       "</div>\n",
       "<div style=\"margin-bottom: 10px;\">\n",
       "  <label for=\"ckpt\">Use Checkpoint:</label>\n",
       "  <select id=\"ckpt\">\n",
       "    <option value=\"true\">True</option>\n",
       "    <option value=\"false\">False</option>\n",
       "  </select>\n",
       "</div>\n",
       "<div style=\"margin-bottom: 10px;\">\n",
       "  <label for=\"action\">Select Action:</label>\n",
       "  <select id=\"action\">\n",
       "    <option value=\"train\">Train</option>\n",
       "    <option value=\"test\">Test</option>\n",
       "    <option value=\"train_test\">Train and Test</option>\n",
       "  </select>\n",
       "</div>\n",
       "\n",
       "<script>\n",
       "  document.getElementById('model').onchange = function() {\n",
       "    IPython.notebook.kernel.execute('user_selection[\"model\"] = \"' + this.value + '\"');\n",
       "  };\n",
       "  document.getElementById('ckpt').onchange = function() {\n",
       "    IPython.notebook.kernel.execute('user_selection[\"use_ckpt\"] = \"' + this.value + '\"');\n",
       "  };\n",
       "  document.getElementById('action').onchange = function() {\n",
       "    let ckpt = document.getElementById('ckpt')\n",
       "    if (this.value === 'test') {\n",
       "      ckpt.value = 'false'\n",
       "      ckpt.disabled = true\n",
       "    } else {\n",
       "      ckpt.disabled = false\n",
       "    }\n",
       "    IPython.notebook.kernel.execute('user_selection[\"action\"] = \"' + this.value + '\"');\n",
       "  };\n",
       "</script>\n"
      ],
      "text/plain": [
       "<IPython.core.display.HTML object>"
      ]
     },
     "metadata": {},
     "output_type": "display_data"
    }
   ],
   "source": [
    "user_selection = {\n",
    "    'model': 'deeplabv3plus_mobilenet',\n",
    "    'use_ckpt': 'true',\n",
    "    'action': 'train'\n",
    "}\n",
    "\n",
    "dropdown_options = \"\"\n",
    "for model in models.keys():\n",
    "    dropdown_options += f'<option value=\"{model}\">{model}</option>'\n",
    "\n",
    "dropdown_menu = f'''\n",
    "<div style=\"margin-bottom: 10px;\">\n",
    "  <label for=\"model\">Select Model:</label>\n",
    "  <select id=\"model\">\n",
    "    {dropdown_options}\n",
    "  </select>\n",
    "</div>\n",
    "<div style=\"margin-bottom: 10px;\">\n",
    "  <label for=\"ckpt\">Use Checkpoint:</label>\n",
    "  <select id=\"ckpt\">\n",
    "    <option value=\"true\">True</option>\n",
    "    <option value=\"false\">False</option>\n",
    "  </select>\n",
    "</div>\n",
    "<div style=\"margin-bottom: 10px;\">\n",
    "  <label for=\"action\">Select Action:</label>\n",
    "  <select id=\"action\">\n",
    "    <option value=\"train\">Train</option>\n",
    "    <option value=\"test\">Test</option>\n",
    "    <option value=\"train_test\">Train and Test</option>\n",
    "  </select>\n",
    "</div>\n",
    "'''\n",
    "\n",
    "dropdown_menu += '''\n",
    "<script>\n",
    "  document.getElementById('model').onchange = function() {\n",
    "    IPython.notebook.kernel.execute('user_selection[\"model\"] = \"' + this.value + '\"');\n",
    "  };\n",
    "  document.getElementById('ckpt').onchange = function() {\n",
    "    IPython.notebook.kernel.execute('user_selection[\"use_ckpt\"] = \"' + this.value + '\"');\n",
    "  };\n",
    "  document.getElementById('action').onchange = function() {\n",
    "    let ckpt = document.getElementById('ckpt')\n",
    "    if (this.value === 'test') {\n",
    "      ckpt.value = 'false'\n",
    "      ckpt.disabled = true\n",
    "    } else {\n",
    "      ckpt.disabled = false\n",
    "    }\n",
    "    IPython.notebook.kernel.execute('user_selection[\"action\"] = \"' + this.value + '\"');\n",
    "  };\n",
    "</script>\n",
    "'''\n",
    "\n",
    "display(HTML(dropdown_menu))"
   ]
  },
  {
   "cell_type": "code",
   "execution_count": null,
   "id": "89f7513e",
   "metadata": {
    "scrolled": true
   },
   "outputs": [
    {
     "name": "stdout",
     "output_type": "stream",
     "text": [
      "--------------------------------------------------\n",
      "Train model mae_segmenter_vit_base_mask with command:\n",
      "python main.py --model mae_segmenter_vit_base_mask --dataset cityscapes --gpu_id 0 --total_epochs 100 --base_lr 0.1 --loss_type focal_loss --crop_size 768 --batch_size 1 --val_batch_size 1 --use_amp --output_stride 16 --data_root ./datasets/data/cityscapes\n",
      "--------------------------------------------------\n",
      "Device: cuda\n",
      "Dataset: cityscapes, Train set: 2975, Val set: 500\n",
      "[!] Retrain\n"
     ]
    },
    {
     "name": "stderr",
     "output_type": "stream",
     "text": [
      "C:\\Users\\25816\\anaconda3\\envs\\pytorch\\lib\\site-packages\\torch\\optim\\lr_scheduler.py:136: UserWarning: Detected call of `lr_scheduler.step()` before `optimizer.step()`. In PyTorch 1.1.0 and later, you should call them in the opposite order: `optimizer.step()` before `lr_scheduler.step()`.  Failure to do this will result in PyTorch skipping the first value of the learning rate schedule. See more details at https://pytorch.org/docs/stable/optim.html#how-to-adjust-learning-rate\n",
      "  warnings.warn(\"Detected call of `lr_scheduler.step()` before `optimizer.step()`. \"\n"
     ]
    },
    {
     "name": "stdout",
     "output_type": "stream",
     "text": [
      "Epoch 1, Itrs 297/297500, Loss=1.193874\n",
      "Epoch 1, Itrs 594/297500, Loss=0.671856\n",
      "Epoch 1, Itrs 891/297500, Loss=0.528846\n",
      "Epoch 1, Itrs 1188/297500, Loss=0.417039\n",
      "Epoch 1, Itrs 1485/297500, Loss=0.462493\n",
      "Epoch 1, Itrs 1782/297500, Loss=0.370647\n",
      "Epoch 1, Itrs 2079/297500, Loss=0.383562\n",
      "Epoch 1, Itrs 2376/297500, Loss=0.363222\n",
      "Epoch 1, Itrs 2673/297500, Loss=0.317141\n",
      "Epoch 1, Itrs 2970/297500, Loss=0.344087\n",
      "Model saved as checkpoints/latest_mae_segmenter_vit_base_mask_cityscapes_os16.pth\n",
      "validation...\n"
     ]
    },
    {
     "name": "stderr",
     "output_type": "stream",
     "text": [
      "500it [02:22,  3.52it/s]\n"
     ]
    },
    {
     "name": "stdout",
     "output_type": "stream",
     "text": [
      "\n",
      "Overall Acc: 0.865110\n",
      "Mean Acc: 0.489327\n",
      "FreqW Acc: 0.795907\n",
      "Mean IoU: 0.364638\n",
      "\n",
      "Model saved as checkpoints/best_mae_segmenter_vit_base_mask_cityscapes_os16.pth\n",
      "Epoch 2, Itrs 3267/297500, Loss=0.287880\n",
      "Epoch 2, Itrs 3564/297500, Loss=0.249993\n",
      "Epoch 2, Itrs 3861/297500, Loss=0.246915\n",
      "Epoch 2, Itrs 4158/297500, Loss=0.240841\n",
      "Epoch 2, Itrs 4455/297500, Loss=0.250817\n",
      "Epoch 2, Itrs 4752/297500, Loss=0.270381\n",
      "Epoch 2, Itrs 5049/297500, Loss=0.235994\n",
      "Epoch 2, Itrs 5346/297500, Loss=0.257131\n",
      "Epoch 2, Itrs 5643/297500, Loss=0.221971\n",
      "Epoch 2, Itrs 5940/297500, Loss=0.206606\n",
      "Model saved as checkpoints/latest_mae_segmenter_vit_base_mask_cityscapes_os16.pth\n",
      "validation...\n"
     ]
    },
    {
     "name": "stderr",
     "output_type": "stream",
     "text": [
      "500it [02:07,  3.91it/s]\n"
     ]
    },
    {
     "name": "stdout",
     "output_type": "stream",
     "text": [
      "\n",
      "Overall Acc: 0.928293\n",
      "Mean Acc: 0.543216\n",
      "FreqW Acc: 0.873646\n",
      "Mean IoU: 0.463585\n",
      "\n",
      "Model saved as checkpoints/best_mae_segmenter_vit_base_mask_cityscapes_os16.pth\n",
      "Epoch 3, Itrs 6237/297500, Loss=0.244069\n",
      "Epoch 3, Itrs 6534/297500, Loss=0.208189\n",
      "Epoch 3, Itrs 6831/297500, Loss=0.190960\n",
      "Epoch 3, Itrs 7128/297500, Loss=0.207344\n",
      "Epoch 3, Itrs 7425/297500, Loss=0.214513\n",
      "Epoch 3, Itrs 7722/297500, Loss=0.232570\n",
      "Epoch 3, Itrs 8019/297500, Loss=0.221683\n",
      "Epoch 3, Itrs 8316/297500, Loss=0.210972\n",
      "Epoch 3, Itrs 8613/297500, Loss=0.191968\n",
      "Epoch 3, Itrs 8910/297500, Loss=0.214653\n",
      "Model saved as checkpoints/latest_mae_segmenter_vit_base_mask_cityscapes_os16.pth\n",
      "validation...\n"
     ]
    },
    {
     "name": "stderr",
     "output_type": "stream",
     "text": [
      "500it [02:07,  3.92it/s]\n"
     ]
    },
    {
     "name": "stdout",
     "output_type": "stream",
     "text": [
      "\n",
      "Overall Acc: 0.935329\n",
      "Mean Acc: 0.599682\n",
      "FreqW Acc: 0.885255\n",
      "Mean IoU: 0.521028\n",
      "\n",
      "Model saved as checkpoints/best_mae_segmenter_vit_base_mask_cityscapes_os16.pth\n",
      "Epoch 4, Itrs 9207/297500, Loss=0.220089\n",
      "Epoch 4, Itrs 9504/297500, Loss=0.202308\n",
      "Epoch 4, Itrs 9801/297500, Loss=0.204300\n",
      "Epoch 4, Itrs 10098/297500, Loss=0.186454\n",
      "Epoch 4, Itrs 10395/297500, Loss=0.196788\n",
      "Epoch 4, Itrs 10692/297500, Loss=0.183307\n",
      "Epoch 4, Itrs 10989/297500, Loss=0.200095\n",
      "Epoch 4, Itrs 11286/297500, Loss=0.169088\n",
      "Epoch 4, Itrs 11583/297500, Loss=0.178391\n",
      "Epoch 4, Itrs 11880/297500, Loss=0.189057\n",
      "Model saved as checkpoints/latest_mae_segmenter_vit_base_mask_cityscapes_os16.pth\n",
      "validation...\n"
     ]
    },
    {
     "name": "stderr",
     "output_type": "stream",
     "text": [
      "500it [02:08,  3.90it/s]\n"
     ]
    },
    {
     "name": "stdout",
     "output_type": "stream",
     "text": [
      "\n",
      "Overall Acc: 0.934838\n",
      "Mean Acc: 0.621105\n",
      "FreqW Acc: 0.884410\n",
      "Mean IoU: 0.538169\n",
      "\n",
      "Model saved as checkpoints/best_mae_segmenter_vit_base_mask_cityscapes_os16.pth\n",
      "Epoch 5, Itrs 12177/297500, Loss=0.171930\n",
      "Epoch 5, Itrs 12474/297500, Loss=0.196248\n",
      "Epoch 5, Itrs 12771/297500, Loss=0.162155\n",
      "Epoch 5, Itrs 13068/297500, Loss=0.197130\n",
      "Epoch 5, Itrs 13365/297500, Loss=0.196280\n",
      "Epoch 5, Itrs 13662/297500, Loss=0.192990\n",
      "Epoch 5, Itrs 13959/297500, Loss=0.191481\n",
      "Epoch 5, Itrs 14256/297500, Loss=0.183244\n",
      "Epoch 5, Itrs 14553/297500, Loss=0.179460\n",
      "Epoch 5, Itrs 14850/297500, Loss=0.182270\n",
      "Model saved as checkpoints/latest_mae_segmenter_vit_base_mask_cityscapes_os16.pth\n",
      "validation...\n"
     ]
    },
    {
     "name": "stderr",
     "output_type": "stream",
     "text": [
      "500it [02:07,  3.91it/s]\n"
     ]
    },
    {
     "name": "stdout",
     "output_type": "stream",
     "text": [
      "\n",
      "Overall Acc: 0.938757\n",
      "Mean Acc: 0.644109\n",
      "FreqW Acc: 0.890294\n",
      "Mean IoU: 0.566980\n",
      "\n",
      "Model saved as checkpoints/best_mae_segmenter_vit_base_mask_cityscapes_os16.pth\n",
      "Epoch 6, Itrs 15147/297500, Loss=0.173073\n",
      "Epoch 6, Itrs 15444/297500, Loss=0.175802\n",
      "Epoch 6, Itrs 15741/297500, Loss=0.195023\n",
      "Epoch 6, Itrs 16038/297500, Loss=0.187210\n",
      "Epoch 6, Itrs 16335/297500, Loss=0.166008\n",
      "Epoch 6, Itrs 16632/297500, Loss=0.187806\n",
      "Epoch 6, Itrs 16929/297500, Loss=0.176394\n",
      "Epoch 6, Itrs 17226/297500, Loss=0.166521\n",
      "Epoch 6, Itrs 17523/297500, Loss=0.169381\n",
      "Epoch 6, Itrs 17820/297500, Loss=0.178759\n",
      "Model saved as checkpoints/latest_mae_segmenter_vit_base_mask_cityscapes_os16.pth\n",
      "validation...\n"
     ]
    },
    {
     "name": "stderr",
     "output_type": "stream",
     "text": [
      "500it [02:08,  3.89it/s]\n"
     ]
    },
    {
     "name": "stdout",
     "output_type": "stream",
     "text": [
      "\n",
      "Overall Acc: 0.929336\n",
      "Mean Acc: 0.646679\n",
      "FreqW Acc: 0.876549\n",
      "Mean IoU: 0.548683\n",
      "\n",
      "Epoch 7, Itrs 18117/297500, Loss=0.168554\n",
      "Epoch 7, Itrs 18414/297500, Loss=0.188577\n",
      "Epoch 7, Itrs 18711/297500, Loss=0.157217\n",
      "Epoch 7, Itrs 19008/297500, Loss=0.177391\n",
      "Epoch 7, Itrs 19305/297500, Loss=0.169256\n",
      "Epoch 7, Itrs 19602/297500, Loss=0.169195\n",
      "Epoch 7, Itrs 19899/297500, Loss=0.167190\n",
      "Epoch 7, Itrs 20196/297500, Loss=0.183683\n",
      "Epoch 7, Itrs 20493/297500, Loss=0.174463\n",
      "Epoch 7, Itrs 20790/297500, Loss=0.164336\n",
      "Model saved as checkpoints/latest_mae_segmenter_vit_base_mask_cityscapes_os16.pth\n",
      "validation...\n"
     ]
    },
    {
     "name": "stderr",
     "output_type": "stream",
     "text": [
      "500it [02:09,  3.85it/s]\n"
     ]
    },
    {
     "name": "stdout",
     "output_type": "stream",
     "text": [
      "\n",
      "Overall Acc: 0.940010\n",
      "Mean Acc: 0.655211\n",
      "FreqW Acc: 0.893002\n",
      "Mean IoU: 0.571692\n",
      "\n",
      "Model saved as checkpoints/best_mae_segmenter_vit_base_mask_cityscapes_os16.pth\n",
      "Epoch 8, Itrs 21087/297500, Loss=0.158905\n",
      "Epoch 8, Itrs 21384/297500, Loss=0.163492\n",
      "Epoch 8, Itrs 21681/297500, Loss=0.173662\n",
      "Epoch 8, Itrs 21978/297500, Loss=0.161587\n",
      "Epoch 8, Itrs 22275/297500, Loss=0.150275\n",
      "Epoch 8, Itrs 22572/297500, Loss=0.151661\n",
      "Epoch 8, Itrs 22869/297500, Loss=0.148706\n",
      "Epoch 8, Itrs 23166/297500, Loss=0.164437\n",
      "Epoch 8, Itrs 23463/297500, Loss=0.177239\n",
      "Epoch 8, Itrs 23760/297500, Loss=0.159107\n",
      "Model saved as checkpoints/latest_mae_segmenter_vit_base_mask_cityscapes_os16.pth\n",
      "validation...\n"
     ]
    },
    {
     "name": "stderr",
     "output_type": "stream",
     "text": [
      "500it [02:08,  3.90it/s]\n"
     ]
    },
    {
     "name": "stdout",
     "output_type": "stream",
     "text": [
      "\n",
      "Overall Acc: 0.928622\n",
      "Mean Acc: 0.672685\n",
      "FreqW Acc: 0.879556\n",
      "Mean IoU: 0.564363\n",
      "\n",
      "Epoch 9, Itrs 24057/297500, Loss=0.182813\n",
      "Epoch 9, Itrs 24354/297500, Loss=0.160033\n",
      "Epoch 9, Itrs 24651/297500, Loss=0.152510\n",
      "Epoch 9, Itrs 24948/297500, Loss=0.158958\n",
      "Epoch 9, Itrs 25245/297500, Loss=0.147886\n",
      "Epoch 9, Itrs 25542/297500, Loss=0.152892\n",
      "Epoch 9, Itrs 25839/297500, Loss=0.162829\n",
      "Epoch 9, Itrs 26136/297500, Loss=0.151717\n",
      "Epoch 9, Itrs 26433/297500, Loss=0.148588\n",
      "Epoch 9, Itrs 26730/297500, Loss=0.167010\n",
      "Model saved as checkpoints/latest_mae_segmenter_vit_base_mask_cityscapes_os16.pth\n",
      "validation...\n"
     ]
    },
    {
     "name": "stderr",
     "output_type": "stream",
     "text": [
      "500it [02:10,  3.83it/s]\n"
     ]
    },
    {
     "name": "stdout",
     "output_type": "stream",
     "text": [
      "\n",
      "Overall Acc: 0.943376\n",
      "Mean Acc: 0.675937\n",
      "FreqW Acc: 0.898356\n",
      "Mean IoU: 0.596872\n",
      "\n",
      "Model saved as checkpoints/best_mae_segmenter_vit_base_mask_cityscapes_os16.pth\n",
      "Epoch 10, Itrs 27027/297500, Loss=0.165240\n",
      "Epoch 10, Itrs 27324/297500, Loss=0.147708\n",
      "Epoch 10, Itrs 27621/297500, Loss=0.151158\n",
      "Epoch 10, Itrs 27918/297500, Loss=0.165947\n",
      "Epoch 10, Itrs 28215/297500, Loss=0.175092\n",
      "Epoch 10, Itrs 28512/297500, Loss=0.159945\n",
      "Epoch 10, Itrs 28809/297500, Loss=0.152349\n",
      "Epoch 10, Itrs 29106/297500, Loss=0.155533\n",
      "Epoch 10, Itrs 29403/297500, Loss=0.151125\n",
      "Epoch 10, Itrs 29700/297500, Loss=0.153300\n",
      "Model saved as checkpoints/latest_mae_segmenter_vit_base_mask_cityscapes_os16.pth\n",
      "validation...\n"
     ]
    },
    {
     "name": "stderr",
     "output_type": "stream",
     "text": [
      "500it [02:09,  3.85it/s]\n"
     ]
    },
    {
     "name": "stdout",
     "output_type": "stream",
     "text": [
      "\n",
      "Overall Acc: 0.943645\n",
      "Mean Acc: 0.679165\n",
      "FreqW Acc: 0.898704\n",
      "Mean IoU: 0.593012\n",
      "\n",
      "Epoch 11, Itrs 29997/297500, Loss=0.153570\n",
      "Epoch 11, Itrs 30294/297500, Loss=0.150796\n",
      "Epoch 11, Itrs 30591/297500, Loss=0.152146\n",
      "Epoch 11, Itrs 30888/297500, Loss=0.146626\n",
      "Epoch 11, Itrs 31185/297500, Loss=0.153753\n",
      "Epoch 11, Itrs 31482/297500, Loss=0.150895\n",
      "Epoch 11, Itrs 31779/297500, Loss=0.156475\n",
      "Epoch 11, Itrs 32076/297500, Loss=0.144926\n",
      "Epoch 11, Itrs 32373/297500, Loss=0.158715\n",
      "Epoch 11, Itrs 32670/297500, Loss=0.149059\n",
      "Model saved as checkpoints/latest_mae_segmenter_vit_base_mask_cityscapes_os16.pth\n",
      "validation...\n"
     ]
    },
    {
     "name": "stderr",
     "output_type": "stream",
     "text": [
      "500it [02:14,  3.72it/s]\n"
     ]
    },
    {
     "name": "stdout",
     "output_type": "stream",
     "text": [
      "\n",
      "Overall Acc: 0.910182\n",
      "Mean Acc: 0.749699\n",
      "FreqW Acc: 0.852028\n",
      "Mean IoU: 0.633472\n",
      "\n",
      "Model saved as checkpoints/best_mae_segmenter_vit_base_mask_cityscapes_os16.pth\n",
      "Epoch 12, Itrs 32967/297500, Loss=0.155326\n",
      "Epoch 12, Itrs 33264/297500, Loss=0.160095\n",
      "Epoch 12, Itrs 33561/297500, Loss=0.156556\n",
      "Epoch 12, Itrs 33858/297500, Loss=0.150601\n",
      "Epoch 12, Itrs 34155/297500, Loss=0.151145\n",
      "Epoch 12, Itrs 34452/297500, Loss=0.148979\n",
      "Epoch 12, Itrs 34749/297500, Loss=0.142974\n",
      "Epoch 12, Itrs 35046/297500, Loss=0.154749\n",
      "Epoch 12, Itrs 35343/297500, Loss=0.171141\n",
      "Epoch 12, Itrs 35640/297500, Loss=0.145813\n",
      "Model saved as checkpoints/latest_mae_segmenter_vit_base_mask_cityscapes_os16.pth\n",
      "validation...\n"
     ]
    },
    {
     "name": "stderr",
     "output_type": "stream",
     "text": [
      "500it [02:10,  3.85it/s]\n"
     ]
    },
    {
     "name": "stdout",
     "output_type": "stream",
     "text": [
      "\n",
      "Overall Acc: 0.945077\n",
      "Mean Acc: 0.729139\n",
      "FreqW Acc: 0.901611\n",
      "Mean IoU: 0.635778\n",
      "\n",
      "Model saved as checkpoints/best_mae_segmenter_vit_base_mask_cityscapes_os16.pth\n",
      "Epoch 13, Itrs 35937/297500, Loss=0.140364\n",
      "Epoch 13, Itrs 36234/297500, Loss=0.150422\n",
      "Epoch 13, Itrs 36531/297500, Loss=0.160261\n",
      "Epoch 13, Itrs 36828/297500, Loss=0.144776\n",
      "Epoch 13, Itrs 37125/297500, Loss=0.145668\n",
      "Epoch 13, Itrs 37422/297500, Loss=0.154776\n",
      "Epoch 13, Itrs 37719/297500, Loss=0.152876\n",
      "Epoch 13, Itrs 38016/297500, Loss=0.135544\n",
      "Epoch 13, Itrs 38313/297500, Loss=0.132587\n",
      "Epoch 13, Itrs 38610/297500, Loss=0.138321\n",
      "Model saved as checkpoints/latest_mae_segmenter_vit_base_mask_cityscapes_os16.pth\n",
      "validation...\n"
     ]
    },
    {
     "name": "stderr",
     "output_type": "stream",
     "text": [
      "500it [02:08,  3.90it/s]\n"
     ]
    },
    {
     "name": "stdout",
     "output_type": "stream",
     "text": [
      "\n",
      "Overall Acc: 0.948765\n",
      "Mean Acc: 0.736789\n",
      "FreqW Acc: 0.907432\n",
      "Mean IoU: 0.645374\n",
      "\n",
      "Model saved as checkpoints/best_mae_segmenter_vit_base_mask_cityscapes_os16.pth\n",
      "Epoch 14, Itrs 38907/297500, Loss=0.136509\n",
      "Epoch 14, Itrs 39204/297500, Loss=0.131909\n",
      "Epoch 14, Itrs 39501/297500, Loss=0.144705\n",
      "Epoch 14, Itrs 39798/297500, Loss=0.150546\n",
      "Epoch 14, Itrs 40095/297500, Loss=0.134343\n",
      "Epoch 14, Itrs 40392/297500, Loss=0.151052\n",
      "Epoch 14, Itrs 40689/297500, Loss=0.139924\n",
      "Epoch 14, Itrs 40986/297500, Loss=0.158312\n",
      "Epoch 14, Itrs 41283/297500, Loss=0.137105\n",
      "Epoch 14, Itrs 41580/297500, Loss=0.145989\n",
      "Model saved as checkpoints/latest_mae_segmenter_vit_base_mask_cityscapes_os16.pth\n",
      "validation...\n"
     ]
    },
    {
     "name": "stderr",
     "output_type": "stream",
     "text": [
      "500it [02:08,  3.89it/s]\n"
     ]
    },
    {
     "name": "stdout",
     "output_type": "stream",
     "text": [
      "\n",
      "Overall Acc: 0.949100\n",
      "Mean Acc: 0.782859\n",
      "FreqW Acc: 0.908125\n",
      "Mean IoU: 0.684404\n",
      "\n",
      "Model saved as checkpoints/best_mae_segmenter_vit_base_mask_cityscapes_os16.pth\n",
      "Epoch 15, Itrs 41877/297500, Loss=0.143803\n",
      "Epoch 15, Itrs 42174/297500, Loss=0.145910\n",
      "Epoch 15, Itrs 42471/297500, Loss=0.145437\n",
      "Epoch 15, Itrs 42768/297500, Loss=0.151098\n",
      "Epoch 15, Itrs 43065/297500, Loss=0.144788\n",
      "Epoch 15, Itrs 43362/297500, Loss=0.132359\n",
      "Epoch 15, Itrs 43659/297500, Loss=0.150973\n",
      "Epoch 15, Itrs 43956/297500, Loss=0.139165\n",
      "Epoch 15, Itrs 44253/297500, Loss=0.134498\n",
      "Epoch 15, Itrs 44550/297500, Loss=0.161124\n",
      "Model saved as checkpoints/latest_mae_segmenter_vit_base_mask_cityscapes_os16.pth\n",
      "validation...\n"
     ]
    },
    {
     "name": "stderr",
     "output_type": "stream",
     "text": [
      "500it [02:24,  3.47it/s]\n"
     ]
    },
    {
     "name": "stdout",
     "output_type": "stream",
     "text": [
      "\n",
      "Overall Acc: 0.948831\n",
      "Mean Acc: 0.755469\n",
      "FreqW Acc: 0.906668\n",
      "Mean IoU: 0.672127\n",
      "\n",
      "Epoch 16, Itrs 44847/297500, Loss=0.137956\n",
      "Epoch 16, Itrs 45144/297500, Loss=0.128905\n",
      "Epoch 16, Itrs 45441/297500, Loss=0.125259\n",
      "Epoch 16, Itrs 45738/297500, Loss=0.143621\n",
      "Epoch 16, Itrs 46035/297500, Loss=0.138552\n",
      "Epoch 16, Itrs 46332/297500, Loss=0.136997\n",
      "Epoch 16, Itrs 46629/297500, Loss=0.147843\n",
      "Epoch 16, Itrs 46926/297500, Loss=0.129895\n",
      "Epoch 16, Itrs 47223/297500, Loss=0.137730\n",
      "Epoch 16, Itrs 47520/297500, Loss=0.147154\n",
      "Model saved as checkpoints/latest_mae_segmenter_vit_base_mask_cityscapes_os16.pth\n",
      "validation...\n"
     ]
    },
    {
     "name": "stderr",
     "output_type": "stream",
     "text": [
      "500it [02:22,  3.51it/s]\n"
     ]
    },
    {
     "name": "stdout",
     "output_type": "stream",
     "text": [
      "\n",
      "Overall Acc: 0.937375\n",
      "Mean Acc: 0.738979\n",
      "FreqW Acc: 0.890146\n",
      "Mean IoU: 0.629099\n",
      "\n",
      "Epoch 17, Itrs 47817/297500, Loss=0.150469\n",
      "Epoch 17, Itrs 48114/297500, Loss=0.141976\n",
      "Epoch 17, Itrs 48411/297500, Loss=0.136563\n",
      "Epoch 17, Itrs 48708/297500, Loss=0.161701\n",
      "Epoch 17, Itrs 49005/297500, Loss=0.133157\n",
      "Epoch 17, Itrs 49302/297500, Loss=0.131419\n",
      "Epoch 17, Itrs 49599/297500, Loss=0.133447\n",
      "Epoch 17, Itrs 49896/297500, Loss=0.135807\n",
      "Epoch 17, Itrs 50193/297500, Loss=0.135384\n",
      "Epoch 17, Itrs 50490/297500, Loss=0.121509\n",
      "Model saved as checkpoints/latest_mae_segmenter_vit_base_mask_cityscapes_os16.pth\n",
      "validation...\n"
     ]
    },
    {
     "name": "stderr",
     "output_type": "stream",
     "text": [
      "500it [02:15,  3.68it/s]\n"
     ]
    },
    {
     "name": "stdout",
     "output_type": "stream",
     "text": [
      "\n",
      "Overall Acc: 0.950406\n",
      "Mean Acc: 0.769534\n",
      "FreqW Acc: 0.910366\n",
      "Mean IoU: 0.676572\n",
      "\n",
      "Epoch 18, Itrs 50787/297500, Loss=0.135037\n",
      "Epoch 18, Itrs 51084/297500, Loss=0.132454\n",
      "Epoch 18, Itrs 51381/297500, Loss=0.131467\n",
      "Epoch 18, Itrs 51678/297500, Loss=0.137595\n",
      "Epoch 18, Itrs 51975/297500, Loss=0.135318\n",
      "Epoch 18, Itrs 52272/297500, Loss=0.130802\n",
      "Epoch 18, Itrs 52569/297500, Loss=0.127858\n",
      "Epoch 18, Itrs 52866/297500, Loss=0.126870\n",
      "Epoch 18, Itrs 53163/297500, Loss=0.128169\n",
      "Epoch 18, Itrs 53460/297500, Loss=0.131629\n",
      "Model saved as checkpoints/latest_mae_segmenter_vit_base_mask_cityscapes_os16.pth\n",
      "validation...\n"
     ]
    },
    {
     "name": "stderr",
     "output_type": "stream",
     "text": [
      "500it [02:15,  3.68it/s]\n"
     ]
    },
    {
     "name": "stdout",
     "output_type": "stream",
     "text": [
      "\n",
      "Overall Acc: 0.941834\n",
      "Mean Acc: 0.723397\n",
      "FreqW Acc: 0.899808\n",
      "Mean IoU: 0.596809\n",
      "\n",
      "Epoch 19, Itrs 53757/297500, Loss=0.137374\n",
      "Epoch 19, Itrs 54054/297500, Loss=0.143818\n",
      "Epoch 19, Itrs 54351/297500, Loss=0.139267\n",
      "Epoch 19, Itrs 54648/297500, Loss=0.124385\n",
      "Epoch 19, Itrs 54945/297500, Loss=0.136108\n",
      "Epoch 19, Itrs 55242/297500, Loss=0.139649\n",
      "Epoch 19, Itrs 55539/297500, Loss=0.130022\n",
      "Epoch 19, Itrs 55836/297500, Loss=0.122569\n",
      "Epoch 19, Itrs 56133/297500, Loss=0.130698\n",
      "Epoch 19, Itrs 56430/297500, Loss=0.133189\n",
      "Model saved as checkpoints/latest_mae_segmenter_vit_base_mask_cityscapes_os16.pth\n",
      "validation...\n"
     ]
    },
    {
     "name": "stderr",
     "output_type": "stream",
     "text": [
      "500it [02:22,  3.50it/s]\n"
     ]
    },
    {
     "name": "stdout",
     "output_type": "stream",
     "text": [
      "\n",
      "Overall Acc: 0.950137\n",
      "Mean Acc: 0.739466\n",
      "FreqW Acc: 0.909340\n",
      "Mean IoU: 0.655903\n",
      "\n",
      "Epoch 20, Itrs 56727/297500, Loss=0.133129\n",
      "Epoch 20, Itrs 57024/297500, Loss=0.127072\n",
      "Epoch 20, Itrs 57321/297500, Loss=0.134435\n",
      "Epoch 20, Itrs 57618/297500, Loss=0.129826\n",
      "Epoch 20, Itrs 57915/297500, Loss=0.138900\n",
      "Epoch 20, Itrs 58212/297500, Loss=0.135323\n",
      "Epoch 20, Itrs 58509/297500, Loss=0.130392\n",
      "Epoch 20, Itrs 58806/297500, Loss=0.130816\n",
      "Epoch 20, Itrs 59103/297500, Loss=0.119013\n",
      "Epoch 20, Itrs 59400/297500, Loss=0.137561\n",
      "Model saved as checkpoints/latest_mae_segmenter_vit_base_mask_cityscapes_os16.pth\n",
      "validation...\n"
     ]
    },
    {
     "name": "stderr",
     "output_type": "stream",
     "text": [
      "500it [02:15,  3.70it/s]\n"
     ]
    },
    {
     "name": "stdout",
     "output_type": "stream",
     "text": [
      "\n",
      "Overall Acc: 0.946196\n",
      "Mean Acc: 0.757426\n",
      "FreqW Acc: 0.902099\n",
      "Mean IoU: 0.665820\n",
      "\n",
      "Epoch 21, Itrs 59697/297500, Loss=0.144102\n",
      "Epoch 21, Itrs 59994/297500, Loss=0.137990\n",
      "Epoch 21, Itrs 60291/297500, Loss=0.133808\n",
      "Epoch 21, Itrs 60588/297500, Loss=0.126541\n",
      "Epoch 21, Itrs 60885/297500, Loss=0.124055\n",
      "Epoch 21, Itrs 61182/297500, Loss=0.127632\n",
      "Epoch 21, Itrs 61479/297500, Loss=0.123400\n",
      "Epoch 21, Itrs 61776/297500, Loss=0.126554\n",
      "Epoch 21, Itrs 62073/297500, Loss=0.157723\n",
      "Epoch 21, Itrs 62370/297500, Loss=0.130583\n",
      "Model saved as checkpoints/latest_mae_segmenter_vit_base_mask_cityscapes_os16.pth\n",
      "validation...\n"
     ]
    },
    {
     "name": "stderr",
     "output_type": "stream",
     "text": [
      "500it [02:08,  3.90it/s]\n"
     ]
    },
    {
     "name": "stdout",
     "output_type": "stream",
     "text": [
      "\n",
      "Overall Acc: 0.949368\n",
      "Mean Acc: 0.802795\n",
      "FreqW Acc: 0.908646\n",
      "Mean IoU: 0.708487\n",
      "\n",
      "Model saved as checkpoints/best_mae_segmenter_vit_base_mask_cityscapes_os16.pth\n",
      "Epoch 22, Itrs 62667/297500, Loss=0.131545\n",
      "Epoch 22, Itrs 62964/297500, Loss=0.125101\n",
      "Epoch 22, Itrs 63261/297500, Loss=0.132481\n",
      "Epoch 22, Itrs 63558/297500, Loss=0.137808\n",
      "Epoch 22, Itrs 63855/297500, Loss=0.123218\n",
      "Epoch 22, Itrs 64152/297500, Loss=0.122592\n",
      "Epoch 22, Itrs 64449/297500, Loss=0.126857\n",
      "Epoch 22, Itrs 64746/297500, Loss=0.120235\n",
      "Epoch 22, Itrs 65043/297500, Loss=0.116206\n",
      "Epoch 22, Itrs 65340/297500, Loss=0.120520\n",
      "Model saved as checkpoints/latest_mae_segmenter_vit_base_mask_cityscapes_os16.pth\n",
      "validation...\n"
     ]
    },
    {
     "name": "stderr",
     "output_type": "stream",
     "text": [
      "500it [02:08,  3.90it/s]\n"
     ]
    },
    {
     "name": "stdout",
     "output_type": "stream",
     "text": [
      "\n",
      "Overall Acc: 0.950983\n",
      "Mean Acc: 0.768144\n",
      "FreqW Acc: 0.909950\n",
      "Mean IoU: 0.690724\n",
      "\n",
      "Epoch 23, Itrs 65637/297500, Loss=0.114506\n",
      "Epoch 23, Itrs 65934/297500, Loss=0.145643\n",
      "Epoch 23, Itrs 66231/297500, Loss=0.131326\n",
      "Epoch 23, Itrs 66528/297500, Loss=0.134029\n",
      "Epoch 23, Itrs 66825/297500, Loss=0.129252\n",
      "Epoch 23, Itrs 67122/297500, Loss=0.119269\n",
      "Epoch 23, Itrs 67419/297500, Loss=0.132634\n",
      "Epoch 23, Itrs 67716/297500, Loss=0.132664\n",
      "Epoch 23, Itrs 68013/297500, Loss=0.119043\n",
      "Epoch 23, Itrs 68310/297500, Loss=0.125825\n",
      "Model saved as checkpoints/latest_mae_segmenter_vit_base_mask_cityscapes_os16.pth\n",
      "validation...\n"
     ]
    },
    {
     "name": "stderr",
     "output_type": "stream",
     "text": [
      "500it [02:09,  3.85it/s]\n"
     ]
    },
    {
     "name": "stdout",
     "output_type": "stream",
     "text": [
      "\n",
      "Overall Acc: 0.946343\n",
      "Mean Acc: 0.755352\n",
      "FreqW Acc: 0.901707\n",
      "Mean IoU: 0.673860\n",
      "\n",
      "Epoch 24, Itrs 68607/297500, Loss=0.126328\n",
      "Epoch 24, Itrs 68904/297500, Loss=0.121359\n",
      "Epoch 24, Itrs 69201/297500, Loss=0.129054\n",
      "Epoch 24, Itrs 69498/297500, Loss=0.127662\n",
      "Epoch 24, Itrs 69795/297500, Loss=0.116885\n",
      "Epoch 24, Itrs 70092/297500, Loss=0.123091\n",
      "Epoch 24, Itrs 70389/297500, Loss=0.123374\n",
      "Epoch 24, Itrs 70686/297500, Loss=0.130892\n",
      "Epoch 24, Itrs 70983/297500, Loss=0.123522\n",
      "Epoch 24, Itrs 71280/297500, Loss=0.124982\n",
      "Model saved as checkpoints/latest_mae_segmenter_vit_base_mask_cityscapes_os16.pth\n",
      "validation...\n"
     ]
    },
    {
     "name": "stderr",
     "output_type": "stream",
     "text": [
      "500it [02:08,  3.88it/s]\n"
     ]
    },
    {
     "name": "stdout",
     "output_type": "stream",
     "text": [
      "\n",
      "Overall Acc: 0.943600\n",
      "Mean Acc: 0.767013\n",
      "FreqW Acc: 0.898613\n",
      "Mean IoU: 0.681133\n",
      "\n",
      "Epoch 25, Itrs 71577/297500, Loss=0.134099\n",
      "Epoch 25, Itrs 71874/297500, Loss=0.129375\n",
      "Epoch 25, Itrs 72171/297500, Loss=0.115188\n",
      "Epoch 25, Itrs 72468/297500, Loss=0.127818\n",
      "Epoch 25, Itrs 72765/297500, Loss=0.114248\n",
      "Epoch 25, Itrs 73062/297500, Loss=0.123716\n",
      "Epoch 25, Itrs 73359/297500, Loss=0.125756\n",
      "Epoch 25, Itrs 73656/297500, Loss=0.120519\n",
      "Epoch 25, Itrs 73953/297500, Loss=0.119153\n",
      "Epoch 25, Itrs 74250/297500, Loss=0.120701\n",
      "Model saved as checkpoints/latest_mae_segmenter_vit_base_mask_cityscapes_os16.pth\n",
      "validation...\n"
     ]
    },
    {
     "name": "stderr",
     "output_type": "stream",
     "text": [
      "500it [02:08,  3.89it/s]\n"
     ]
    },
    {
     "name": "stdout",
     "output_type": "stream",
     "text": [
      "\n",
      "Overall Acc: 0.952987\n",
      "Mean Acc: 0.779241\n",
      "FreqW Acc: 0.913708\n",
      "Mean IoU: 0.705265\n",
      "\n",
      "Epoch 26, Itrs 74547/297500, Loss=0.114989\n",
      "Epoch 26, Itrs 74844/297500, Loss=0.111785\n",
      "Epoch 26, Itrs 75141/297500, Loss=0.112215\n",
      "Epoch 26, Itrs 75438/297500, Loss=0.132728\n",
      "Epoch 26, Itrs 75735/297500, Loss=0.127604\n",
      "Epoch 26, Itrs 76032/297500, Loss=0.120127\n",
      "Epoch 26, Itrs 76329/297500, Loss=0.117887\n",
      "Epoch 26, Itrs 76626/297500, Loss=0.126110\n",
      "Epoch 26, Itrs 76923/297500, Loss=0.125680\n",
      "Epoch 26, Itrs 77220/297500, Loss=0.128118\n",
      "Model saved as checkpoints/latest_mae_segmenter_vit_base_mask_cityscapes_os16.pth\n",
      "validation...\n"
     ]
    },
    {
     "name": "stderr",
     "output_type": "stream",
     "text": [
      "500it [02:08,  3.91it/s]\n"
     ]
    },
    {
     "name": "stdout",
     "output_type": "stream",
     "text": [
      "\n",
      "Overall Acc: 0.951782\n",
      "Mean Acc: 0.798708\n",
      "FreqW Acc: 0.911591\n",
      "Mean IoU: 0.715936\n",
      "\n",
      "Model saved as checkpoints/best_mae_segmenter_vit_base_mask_cityscapes_os16.pth\n",
      "Epoch 27, Itrs 77517/297500, Loss=0.117285\n",
      "Epoch 27, Itrs 77814/297500, Loss=0.117812\n",
      "Epoch 27, Itrs 78111/297500, Loss=0.111634\n",
      "Epoch 27, Itrs 78408/297500, Loss=0.121416\n",
      "Epoch 27, Itrs 78705/297500, Loss=0.118105\n",
      "Epoch 27, Itrs 79002/297500, Loss=0.113852\n",
      "Epoch 27, Itrs 79299/297500, Loss=0.152562\n",
      "Epoch 27, Itrs 79596/297500, Loss=0.122147\n",
      "Epoch 27, Itrs 79893/297500, Loss=0.125157\n",
      "Epoch 27, Itrs 80190/297500, Loss=0.123964\n",
      "Model saved as checkpoints/latest_mae_segmenter_vit_base_mask_cityscapes_os16.pth\n",
      "validation...\n"
     ]
    },
    {
     "name": "stderr",
     "output_type": "stream",
     "text": [
      "500it [02:08,  3.90it/s]\n"
     ]
    },
    {
     "name": "stdout",
     "output_type": "stream",
     "text": [
      "\n",
      "Overall Acc: 0.951326\n",
      "Mean Acc: 0.788179\n",
      "FreqW Acc: 0.911332\n",
      "Mean IoU: 0.711332\n",
      "\n",
      "Epoch 28, Itrs 80487/297500, Loss=0.127905\n",
      "Epoch 28, Itrs 80784/297500, Loss=0.112809\n",
      "Epoch 28, Itrs 81081/297500, Loss=0.117388\n",
      "Epoch 28, Itrs 81378/297500, Loss=0.123552\n",
      "Epoch 28, Itrs 81675/297500, Loss=0.126751\n",
      "Epoch 28, Itrs 81972/297500, Loss=0.129130\n",
      "Epoch 28, Itrs 82269/297500, Loss=0.141477\n",
      "Epoch 28, Itrs 82566/297500, Loss=0.125979\n",
      "Epoch 28, Itrs 82863/297500, Loss=0.117643\n",
      "Epoch 28, Itrs 83160/297500, Loss=0.122821\n",
      "Model saved as checkpoints/latest_mae_segmenter_vit_base_mask_cityscapes_os16.pth\n",
      "validation...\n"
     ]
    },
    {
     "name": "stderr",
     "output_type": "stream",
     "text": [
      "500it [02:08,  3.88it/s]\n"
     ]
    },
    {
     "name": "stdout",
     "output_type": "stream",
     "text": [
      "\n",
      "Overall Acc: 0.950066\n",
      "Mean Acc: 0.793480\n",
      "FreqW Acc: 0.908375\n",
      "Mean IoU: 0.716727\n",
      "\n",
      "Model saved as checkpoints/best_mae_segmenter_vit_base_mask_cityscapes_os16.pth\n",
      "Epoch 29, Itrs 83457/297500, Loss=0.122719\n",
      "Epoch 29, Itrs 83754/297500, Loss=0.112226\n",
      "Epoch 29, Itrs 84051/297500, Loss=0.118731\n",
      "Epoch 29, Itrs 84348/297500, Loss=0.123582\n",
      "Epoch 29, Itrs 84645/297500, Loss=0.115997\n",
      "Epoch 29, Itrs 84942/297500, Loss=0.117510\n",
      "Epoch 29, Itrs 85239/297500, Loss=0.124313\n",
      "Epoch 29, Itrs 85536/297500, Loss=0.114872\n",
      "Epoch 29, Itrs 85833/297500, Loss=0.114866\n",
      "Epoch 29, Itrs 86130/297500, Loss=0.125491\n",
      "Model saved as checkpoints/latest_mae_segmenter_vit_base_mask_cityscapes_os16.pth\n",
      "validation...\n"
     ]
    },
    {
     "name": "stderr",
     "output_type": "stream",
     "text": [
      "500it [02:08,  3.90it/s]\n"
     ]
    },
    {
     "name": "stdout",
     "output_type": "stream",
     "text": [
      "\n",
      "Overall Acc: 0.952041\n",
      "Mean Acc: 0.815826\n",
      "FreqW Acc: 0.912957\n",
      "Mean IoU: 0.715323\n",
      "\n",
      "Epoch 30, Itrs 86427/297500, Loss=0.114449\n",
      "Epoch 30, Itrs 86724/297500, Loss=0.117760\n",
      "Epoch 30, Itrs 87021/297500, Loss=0.121758\n",
      "Epoch 30, Itrs 87318/297500, Loss=0.118917\n",
      "Epoch 30, Itrs 87615/297500, Loss=0.123390\n",
      "Epoch 30, Itrs 87912/297500, Loss=0.133564\n",
      "Epoch 30, Itrs 88209/297500, Loss=0.112834\n",
      "Epoch 30, Itrs 88506/297500, Loss=0.115191\n",
      "Epoch 30, Itrs 88803/297500, Loss=0.121033\n",
      "Epoch 30, Itrs 89100/297500, Loss=0.124742\n",
      "Model saved as checkpoints/latest_mae_segmenter_vit_base_mask_cityscapes_os16.pth\n",
      "validation...\n"
     ]
    },
    {
     "name": "stderr",
     "output_type": "stream",
     "text": [
      "500it [02:09,  3.86it/s]\n"
     ]
    },
    {
     "name": "stdout",
     "output_type": "stream",
     "text": [
      "\n",
      "Overall Acc: 0.953375\n",
      "Mean Acc: 0.799387\n",
      "FreqW Acc: 0.914467\n",
      "Mean IoU: 0.725330\n",
      "\n",
      "Model saved as checkpoints/best_mae_segmenter_vit_base_mask_cityscapes_os16.pth\n",
      "Epoch 31, Itrs 89397/297500, Loss=0.112349\n",
      "Epoch 31, Itrs 89694/297500, Loss=0.114263\n",
      "Epoch 31, Itrs 89991/297500, Loss=0.126550\n",
      "Epoch 31, Itrs 90288/297500, Loss=0.124486\n",
      "Epoch 31, Itrs 90585/297500, Loss=0.110006\n",
      "Epoch 31, Itrs 90882/297500, Loss=0.113169\n",
      "Epoch 31, Itrs 91179/297500, Loss=0.119193\n",
      "Epoch 31, Itrs 91476/297500, Loss=0.117583\n",
      "Epoch 31, Itrs 91773/297500, Loss=0.116412\n",
      "Epoch 31, Itrs 92070/297500, Loss=0.113683\n",
      "Model saved as checkpoints/latest_mae_segmenter_vit_base_mask_cityscapes_os16.pth\n",
      "validation...\n"
     ]
    },
    {
     "name": "stderr",
     "output_type": "stream",
     "text": [
      "500it [02:10,  3.84it/s]\n"
     ]
    },
    {
     "name": "stdout",
     "output_type": "stream",
     "text": [
      "\n",
      "Overall Acc: 0.951133\n",
      "Mean Acc: 0.770757\n",
      "FreqW Acc: 0.910398\n",
      "Mean IoU: 0.698064\n",
      "\n",
      "Epoch 32, Itrs 92367/297500, Loss=0.118947\n",
      "Epoch 32, Itrs 92664/297500, Loss=0.111014\n",
      "Epoch 32, Itrs 92961/297500, Loss=0.112373\n",
      "Epoch 32, Itrs 93258/297500, Loss=0.111587\n",
      "Epoch 32, Itrs 93555/297500, Loss=0.115942\n",
      "Epoch 32, Itrs 93852/297500, Loss=0.107222\n",
      "Epoch 32, Itrs 94149/297500, Loss=0.117597\n",
      "Epoch 32, Itrs 94446/297500, Loss=0.118509\n",
      "Epoch 32, Itrs 94743/297500, Loss=0.115084\n",
      "Epoch 32, Itrs 95040/297500, Loss=0.116076\n",
      "Model saved as checkpoints/latest_mae_segmenter_vit_base_mask_cityscapes_os16.pth\n",
      "validation...\n"
     ]
    },
    {
     "name": "stderr",
     "output_type": "stream",
     "text": [
      "500it [02:11,  3.80it/s]\n"
     ]
    },
    {
     "name": "stdout",
     "output_type": "stream",
     "text": [
      "\n",
      "Overall Acc: 0.951119\n",
      "Mean Acc: 0.793124\n",
      "FreqW Acc: 0.910763\n",
      "Mean IoU: 0.715728\n",
      "\n",
      "Epoch 33, Itrs 95337/297500, Loss=0.124718\n",
      "Epoch 33, Itrs 95634/297500, Loss=0.112544\n",
      "Epoch 33, Itrs 95931/297500, Loss=0.107661\n",
      "Epoch 33, Itrs 96228/297500, Loss=0.108969\n",
      "Epoch 33, Itrs 96525/297500, Loss=0.111303\n",
      "Epoch 33, Itrs 96822/297500, Loss=0.112501\n",
      "Epoch 33, Itrs 97119/297500, Loss=0.119131\n",
      "Epoch 33, Itrs 97416/297500, Loss=0.111664\n",
      "Epoch 33, Itrs 97713/297500, Loss=0.114519\n",
      "Epoch 33, Itrs 98010/297500, Loss=0.118690\n",
      "Model saved as checkpoints/latest_mae_segmenter_vit_base_mask_cityscapes_os16.pth\n",
      "validation...\n"
     ]
    },
    {
     "name": "stderr",
     "output_type": "stream",
     "text": [
      "500it [02:20,  3.57it/s]\n"
     ]
    },
    {
     "name": "stdout",
     "output_type": "stream",
     "text": [
      "\n",
      "Overall Acc: 0.953298\n",
      "Mean Acc: 0.805952\n",
      "FreqW Acc: 0.914350\n",
      "Mean IoU: 0.728909\n",
      "\n",
      "Model saved as checkpoints/best_mae_segmenter_vit_base_mask_cityscapes_os16.pth\n",
      "Epoch 34, Itrs 98307/297500, Loss=0.115967\n",
      "Epoch 34, Itrs 98604/297500, Loss=0.110481\n",
      "Epoch 34, Itrs 98901/297500, Loss=0.109356\n",
      "Epoch 34, Itrs 99198/297500, Loss=0.127684\n",
      "Epoch 34, Itrs 99495/297500, Loss=0.111293\n",
      "Epoch 34, Itrs 99792/297500, Loss=0.114878\n",
      "Epoch 34, Itrs 100089/297500, Loss=0.124710\n",
      "Epoch 34, Itrs 100386/297500, Loss=0.119675\n",
      "Epoch 34, Itrs 100683/297500, Loss=0.115402\n",
      "Epoch 34, Itrs 100980/297500, Loss=0.111258\n",
      "Model saved as checkpoints/latest_mae_segmenter_vit_base_mask_cityscapes_os16.pth\n",
      "validation...\n"
     ]
    },
    {
     "name": "stderr",
     "output_type": "stream",
     "text": [
      "500it [02:11,  3.79it/s]\n"
     ]
    },
    {
     "name": "stdout",
     "output_type": "stream",
     "text": [
      "\n",
      "Overall Acc: 0.952141\n",
      "Mean Acc: 0.792514\n",
      "FreqW Acc: 0.911615\n",
      "Mean IoU: 0.716706\n",
      "\n",
      "Epoch 35, Itrs 101277/297500, Loss=0.113208\n",
      "Epoch 35, Itrs 101574/297500, Loss=0.109176\n",
      "Epoch 35, Itrs 101871/297500, Loss=0.116674\n",
      "Epoch 35, Itrs 102168/297500, Loss=0.129841\n",
      "Epoch 35, Itrs 102465/297500, Loss=0.114247\n",
      "Epoch 35, Itrs 102762/297500, Loss=0.121841\n",
      "Epoch 35, Itrs 103059/297500, Loss=0.110715\n",
      "Epoch 35, Itrs 103356/297500, Loss=0.117622\n",
      "Epoch 35, Itrs 103653/297500, Loss=0.116913\n",
      "Epoch 35, Itrs 103950/297500, Loss=0.114041\n",
      "Model saved as checkpoints/latest_mae_segmenter_vit_base_mask_cityscapes_os16.pth\n",
      "validation...\n"
     ]
    },
    {
     "name": "stderr",
     "output_type": "stream",
     "text": [
      "500it [02:10,  3.83it/s]\n"
     ]
    },
    {
     "name": "stdout",
     "output_type": "stream",
     "text": [
      "\n",
      "Overall Acc: 0.953770\n",
      "Mean Acc: 0.813269\n",
      "FreqW Acc: 0.915374\n",
      "Mean IoU: 0.731033\n",
      "\n",
      "Model saved as checkpoints/best_mae_segmenter_vit_base_mask_cityscapes_os16.pth\n",
      "Epoch 36, Itrs 104247/297500, Loss=0.110626\n",
      "Epoch 36, Itrs 104544/297500, Loss=0.111732\n",
      "Epoch 36, Itrs 104841/297500, Loss=0.118301\n",
      "Epoch 36, Itrs 105138/297500, Loss=0.106648\n",
      "Epoch 36, Itrs 105435/297500, Loss=0.108166\n",
      "Epoch 36, Itrs 105732/297500, Loss=0.107345\n",
      "Epoch 36, Itrs 106029/297500, Loss=0.111459\n",
      "Epoch 36, Itrs 106326/297500, Loss=0.119390\n",
      "Epoch 36, Itrs 106623/297500, Loss=0.116113\n",
      "Epoch 36, Itrs 106920/297500, Loss=0.117082\n",
      "Model saved as checkpoints/latest_mae_segmenter_vit_base_mask_cityscapes_os16.pth\n",
      "validation...\n"
     ]
    },
    {
     "name": "stderr",
     "output_type": "stream",
     "text": [
      "500it [02:08,  3.91it/s]\n"
     ]
    },
    {
     "name": "stdout",
     "output_type": "stream",
     "text": [
      "\n",
      "Overall Acc: 0.952696\n",
      "Mean Acc: 0.767127\n",
      "FreqW Acc: 0.913544\n",
      "Mean IoU: 0.687655\n",
      "\n",
      "Epoch 37, Itrs 107217/297500, Loss=0.131874\n",
      "Epoch 37, Itrs 107514/297500, Loss=0.119005\n",
      "Epoch 37, Itrs 107811/297500, Loss=0.112472\n",
      "Epoch 37, Itrs 108108/297500, Loss=0.121119\n",
      "Epoch 37, Itrs 108405/297500, Loss=0.113569\n",
      "Epoch 37, Itrs 108702/297500, Loss=0.119247\n",
      "Epoch 37, Itrs 108999/297500, Loss=0.112745\n",
      "Epoch 37, Itrs 109296/297500, Loss=0.113983\n",
      "Epoch 37, Itrs 109593/297500, Loss=0.108987\n",
      "Epoch 37, Itrs 109890/297500, Loss=0.127980\n",
      "Model saved as checkpoints/latest_mae_segmenter_vit_base_mask_cityscapes_os16.pth\n",
      "validation...\n"
     ]
    },
    {
     "name": "stderr",
     "output_type": "stream",
     "text": [
      "500it [02:08,  3.90it/s]\n"
     ]
    },
    {
     "name": "stdout",
     "output_type": "stream",
     "text": [
      "\n",
      "Overall Acc: 0.949341\n",
      "Mean Acc: 0.760908\n",
      "FreqW Acc: 0.907972\n",
      "Mean IoU: 0.667234\n",
      "\n",
      "Epoch 38, Itrs 110187/297500, Loss=0.112119\n",
      "Epoch 38, Itrs 110484/297500, Loss=0.112090\n",
      "Epoch 38, Itrs 110781/297500, Loss=0.120616\n",
      "Epoch 38, Itrs 111078/297500, Loss=0.114616\n",
      "Epoch 38, Itrs 111375/297500, Loss=0.112620\n",
      "Epoch 38, Itrs 111672/297500, Loss=0.112276\n",
      "Epoch 38, Itrs 111969/297500, Loss=0.106582\n",
      "Epoch 38, Itrs 112266/297500, Loss=0.120002\n",
      "Epoch 38, Itrs 112563/297500, Loss=0.113279\n",
      "Epoch 38, Itrs 112860/297500, Loss=0.104781\n",
      "Model saved as checkpoints/latest_mae_segmenter_vit_base_mask_cityscapes_os16.pth\n",
      "validation...\n"
     ]
    },
    {
     "name": "stderr",
     "output_type": "stream",
     "text": [
      "500it [02:08,  3.88it/s]\n"
     ]
    },
    {
     "name": "stdout",
     "output_type": "stream",
     "text": [
      "\n",
      "Overall Acc: 0.935501\n",
      "Mean Acc: 0.728546\n",
      "FreqW Acc: 0.884343\n",
      "Mean IoU: 0.635650\n",
      "\n",
      "Epoch 39, Itrs 113157/297500, Loss=0.161775\n",
      "Epoch 39, Itrs 113454/297500, Loss=0.119862\n",
      "Epoch 39, Itrs 113751/297500, Loss=0.112503\n",
      "Epoch 39, Itrs 114048/297500, Loss=0.112484\n",
      "Epoch 39, Itrs 114345/297500, Loss=0.116252\n",
      "Epoch 39, Itrs 114642/297500, Loss=0.116038\n",
      "Epoch 39, Itrs 114939/297500, Loss=0.118567\n",
      "Epoch 39, Itrs 115236/297500, Loss=0.110758\n",
      "Epoch 39, Itrs 115533/297500, Loss=0.117184\n",
      "Epoch 39, Itrs 115830/297500, Loss=0.112737\n",
      "Model saved as checkpoints/latest_mae_segmenter_vit_base_mask_cityscapes_os16.pth\n",
      "validation...\n"
     ]
    },
    {
     "name": "stderr",
     "output_type": "stream",
     "text": [
      "500it [02:10,  3.84it/s]\n"
     ]
    },
    {
     "name": "stdout",
     "output_type": "stream",
     "text": [
      "\n",
      "Overall Acc: 0.953698\n",
      "Mean Acc: 0.777374\n",
      "FreqW Acc: 0.914974\n",
      "Mean IoU: 0.706432\n",
      "\n",
      "Epoch 40, Itrs 116127/297500, Loss=0.107183\n",
      "Epoch 40, Itrs 116424/297500, Loss=0.107507\n",
      "Epoch 40, Itrs 116721/297500, Loss=0.108796\n",
      "Epoch 40, Itrs 117018/297500, Loss=0.117135\n",
      "Epoch 40, Itrs 117315/297500, Loss=0.109406\n",
      "Epoch 40, Itrs 117612/297500, Loss=0.105757\n",
      "Epoch 40, Itrs 117909/297500, Loss=0.110835\n",
      "Epoch 40, Itrs 118206/297500, Loss=0.114817\n",
      "Epoch 40, Itrs 118503/297500, Loss=0.102584\n",
      "Epoch 40, Itrs 118800/297500, Loss=0.114144\n",
      "Model saved as checkpoints/latest_mae_segmenter_vit_base_mask_cityscapes_os16.pth\n",
      "validation...\n"
     ]
    },
    {
     "name": "stderr",
     "output_type": "stream",
     "text": [
      "500it [02:08,  3.91it/s]\n"
     ]
    },
    {
     "name": "stdout",
     "output_type": "stream",
     "text": [
      "\n",
      "Overall Acc: 0.954624\n",
      "Mean Acc: 0.813708\n",
      "FreqW Acc: 0.916935\n",
      "Mean IoU: 0.730673\n",
      "\n",
      "Epoch 41, Itrs 119097/297500, Loss=0.119124\n",
      "Epoch 41, Itrs 119394/297500, Loss=0.108841\n",
      "Epoch 41, Itrs 119691/297500, Loss=0.105121\n",
      "Epoch 41, Itrs 119988/297500, Loss=0.114601\n",
      "Epoch 41, Itrs 120285/297500, Loss=0.104089\n",
      "Epoch 41, Itrs 120582/297500, Loss=0.111755\n",
      "Epoch 41, Itrs 120879/297500, Loss=0.110533\n",
      "Epoch 41, Itrs 121176/297500, Loss=0.107252\n",
      "Epoch 41, Itrs 121473/297500, Loss=0.107876\n",
      "Epoch 41, Itrs 121770/297500, Loss=0.120835\n",
      "Model saved as checkpoints/latest_mae_segmenter_vit_base_mask_cityscapes_os16.pth\n",
      "validation...\n"
     ]
    },
    {
     "name": "stderr",
     "output_type": "stream",
     "text": [
      "500it [02:08,  3.90it/s]\n"
     ]
    },
    {
     "name": "stdout",
     "output_type": "stream",
     "text": [
      "\n",
      "Overall Acc: 0.954075\n",
      "Mean Acc: 0.802720\n",
      "FreqW Acc: 0.915382\n",
      "Mean IoU: 0.724715\n",
      "\n",
      "Epoch 42, Itrs 122067/297500, Loss=0.102902\n",
      "Epoch 42, Itrs 122364/297500, Loss=0.113787\n",
      "Epoch 42, Itrs 122661/297500, Loss=0.108463\n",
      "Epoch 42, Itrs 122958/297500, Loss=0.104172\n",
      "Epoch 42, Itrs 123255/297500, Loss=0.114361\n",
      "Epoch 42, Itrs 123552/297500, Loss=0.107357\n",
      "Epoch 42, Itrs 123849/297500, Loss=0.112173\n",
      "Epoch 42, Itrs 124146/297500, Loss=0.104020\n",
      "Epoch 42, Itrs 124443/297500, Loss=0.109940\n",
      "Epoch 42, Itrs 124740/297500, Loss=0.101936\n",
      "Model saved as checkpoints/latest_mae_segmenter_vit_base_mask_cityscapes_os16.pth\n",
      "validation...\n"
     ]
    },
    {
     "name": "stderr",
     "output_type": "stream",
     "text": [
      "500it [02:12,  3.77it/s]\n"
     ]
    },
    {
     "name": "stdout",
     "output_type": "stream",
     "text": [
      "\n",
      "Overall Acc: 0.953345\n",
      "Mean Acc: 0.817910\n",
      "FreqW Acc: 0.914374\n",
      "Mean IoU: 0.731088\n",
      "\n",
      "Model saved as checkpoints/best_mae_segmenter_vit_base_mask_cityscapes_os16.pth\n",
      "Epoch 43, Itrs 125037/297500, Loss=0.123457\n",
      "Epoch 43, Itrs 125334/297500, Loss=0.108176\n",
      "Epoch 43, Itrs 125631/297500, Loss=0.106354\n",
      "Epoch 43, Itrs 125928/297500, Loss=0.113218\n",
      "Epoch 43, Itrs 126225/297500, Loss=0.117287\n",
      "Epoch 43, Itrs 126522/297500, Loss=0.106345\n",
      "Epoch 43, Itrs 126819/297500, Loss=0.106910\n",
      "Epoch 43, Itrs 127116/297500, Loss=0.115351\n",
      "Epoch 43, Itrs 127413/297500, Loss=0.112098\n",
      "Epoch 43, Itrs 127710/297500, Loss=0.106800\n",
      "Model saved as checkpoints/latest_mae_segmenter_vit_base_mask_cityscapes_os16.pth\n",
      "validation...\n"
     ]
    },
    {
     "name": "stderr",
     "output_type": "stream",
     "text": [
      "500it [02:09,  3.87it/s]\n"
     ]
    },
    {
     "name": "stdout",
     "output_type": "stream",
     "text": [
      "\n",
      "Overall Acc: 0.955806\n",
      "Mean Acc: 0.814445\n",
      "FreqW Acc: 0.918562\n",
      "Mean IoU: 0.737870\n",
      "\n",
      "Model saved as checkpoints/best_mae_segmenter_vit_base_mask_cityscapes_os16.pth\n",
      "Epoch 44, Itrs 128007/297500, Loss=0.107747\n",
      "Epoch 44, Itrs 128304/297500, Loss=0.105541\n",
      "Epoch 44, Itrs 128601/297500, Loss=0.107052\n",
      "Epoch 44, Itrs 128898/297500, Loss=0.104781\n",
      "Epoch 44, Itrs 129195/297500, Loss=0.108369\n",
      "Epoch 44, Itrs 129492/297500, Loss=0.104804\n",
      "Epoch 44, Itrs 129789/297500, Loss=0.119229\n",
      "Epoch 44, Itrs 130086/297500, Loss=0.111756\n",
      "Epoch 44, Itrs 130383/297500, Loss=0.111136\n",
      "Epoch 44, Itrs 130680/297500, Loss=0.112868\n",
      "Model saved as checkpoints/latest_mae_segmenter_vit_base_mask_cityscapes_os16.pth\n",
      "validation...\n"
     ]
    },
    {
     "name": "stderr",
     "output_type": "stream",
     "text": [
      "500it [02:08,  3.88it/s]\n"
     ]
    },
    {
     "name": "stdout",
     "output_type": "stream",
     "text": [
      "\n",
      "Overall Acc: 0.955134\n",
      "Mean Acc: 0.801197\n",
      "FreqW Acc: 0.917322\n",
      "Mean IoU: 0.727932\n",
      "\n",
      "Epoch 45, Itrs 130977/297500, Loss=0.109017\n",
      "Epoch 45, Itrs 131274/297500, Loss=0.098511\n",
      "Epoch 45, Itrs 131571/297500, Loss=0.110783\n",
      "Epoch 45, Itrs 131868/297500, Loss=0.112648\n",
      "Epoch 45, Itrs 132165/297500, Loss=0.100118\n",
      "Epoch 45, Itrs 132462/297500, Loss=0.107239\n",
      "Epoch 45, Itrs 132759/297500, Loss=0.112993\n",
      "Epoch 45, Itrs 133056/297500, Loss=0.107196\n",
      "Epoch 45, Itrs 133353/297500, Loss=0.108699\n",
      "Epoch 45, Itrs 133650/297500, Loss=0.111037\n",
      "Model saved as checkpoints/latest_mae_segmenter_vit_base_mask_cityscapes_os16.pth\n",
      "validation...\n"
     ]
    },
    {
     "name": "stderr",
     "output_type": "stream",
     "text": [
      "500it [02:10,  3.83it/s]\n"
     ]
    },
    {
     "name": "stdout",
     "output_type": "stream",
     "text": [
      "\n",
      "Overall Acc: 0.954799\n",
      "Mean Acc: 0.791890\n",
      "FreqW Acc: 0.916311\n",
      "Mean IoU: 0.724110\n",
      "\n",
      "Epoch 46, Itrs 133947/297500, Loss=0.098867\n",
      "Epoch 46, Itrs 134244/297500, Loss=0.109772\n",
      "Epoch 46, Itrs 134541/297500, Loss=0.106478\n",
      "Epoch 46, Itrs 134838/297500, Loss=0.105594\n",
      "Epoch 46, Itrs 135135/297500, Loss=0.106467\n",
      "Epoch 46, Itrs 135432/297500, Loss=0.104647\n",
      "Epoch 46, Itrs 135729/297500, Loss=0.107401\n",
      "Epoch 46, Itrs 136026/297500, Loss=0.107897\n",
      "Epoch 46, Itrs 136323/297500, Loss=0.117063\n",
      "Epoch 46, Itrs 136620/297500, Loss=0.104554\n",
      "Model saved as checkpoints/latest_mae_segmenter_vit_base_mask_cityscapes_os16.pth\n",
      "validation...\n"
     ]
    },
    {
     "name": "stderr",
     "output_type": "stream",
     "text": [
      "500it [02:09,  3.85it/s]\n"
     ]
    },
    {
     "name": "stdout",
     "output_type": "stream",
     "text": [
      "\n",
      "Overall Acc: 0.952348\n",
      "Mean Acc: 0.789728\n",
      "FreqW Acc: 0.912399\n",
      "Mean IoU: 0.702951\n",
      "\n",
      "Epoch 47, Itrs 136917/297500, Loss=0.108838\n",
      "Epoch 47, Itrs 137214/297500, Loss=0.105571\n",
      "Epoch 47, Itrs 137511/297500, Loss=0.102706\n",
      "Epoch 47, Itrs 137808/297500, Loss=0.106723\n",
      "Epoch 47, Itrs 138105/297500, Loss=0.114790\n",
      "Epoch 47, Itrs 138402/297500, Loss=0.109566\n",
      "Epoch 47, Itrs 138699/297500, Loss=0.103589\n",
      "Epoch 47, Itrs 138996/297500, Loss=0.107188\n",
      "Epoch 47, Itrs 139293/297500, Loss=0.103793\n",
      "Epoch 47, Itrs 139590/297500, Loss=0.106032\n",
      "Model saved as checkpoints/latest_mae_segmenter_vit_base_mask_cityscapes_os16.pth\n",
      "validation...\n"
     ]
    },
    {
     "name": "stderr",
     "output_type": "stream",
     "text": [
      "500it [02:08,  3.89it/s]\n"
     ]
    },
    {
     "name": "stdout",
     "output_type": "stream",
     "text": [
      "\n",
      "Overall Acc: 0.955919\n",
      "Mean Acc: 0.823579\n",
      "FreqW Acc: 0.918978\n",
      "Mean IoU: 0.741752\n",
      "\n",
      "Model saved as checkpoints/best_mae_segmenter_vit_base_mask_cityscapes_os16.pth\n",
      "Epoch 48, Itrs 139887/297500, Loss=0.110445\n",
      "Epoch 48, Itrs 140184/297500, Loss=0.111024\n",
      "Epoch 48, Itrs 140481/297500, Loss=0.111858\n",
      "Epoch 48, Itrs 140778/297500, Loss=0.104096\n",
      "Epoch 48, Itrs 141075/297500, Loss=0.104223\n",
      "Epoch 48, Itrs 141372/297500, Loss=0.101505\n",
      "Epoch 48, Itrs 141669/297500, Loss=0.108266\n",
      "Epoch 48, Itrs 141966/297500, Loss=0.102587\n",
      "Epoch 48, Itrs 142263/297500, Loss=0.107370\n",
      "Epoch 48, Itrs 142560/297500, Loss=0.113093\n",
      "Model saved as checkpoints/latest_mae_segmenter_vit_base_mask_cityscapes_os16.pth\n",
      "validation...\n"
     ]
    },
    {
     "name": "stderr",
     "output_type": "stream",
     "text": [
      "500it [02:08,  3.89it/s]\n"
     ]
    },
    {
     "name": "stdout",
     "output_type": "stream",
     "text": [
      "\n",
      "Overall Acc: 0.954337\n",
      "Mean Acc: 0.818053\n",
      "FreqW Acc: 0.916030\n",
      "Mean IoU: 0.736977\n",
      "\n",
      "Epoch 49, Itrs 142857/297500, Loss=0.105368\n",
      "Epoch 49, Itrs 143154/297500, Loss=0.100239\n",
      "Epoch 49, Itrs 143451/297500, Loss=0.104436\n",
      "Epoch 49, Itrs 143748/297500, Loss=0.106666\n",
      "Epoch 49, Itrs 144045/297500, Loss=0.102120\n",
      "Epoch 49, Itrs 144342/297500, Loss=0.104133\n",
      "Epoch 49, Itrs 144639/297500, Loss=0.104961\n",
      "Epoch 49, Itrs 144936/297500, Loss=0.096963\n",
      "Epoch 49, Itrs 145233/297500, Loss=0.101535\n",
      "Epoch 49, Itrs 145530/297500, Loss=0.102274\n",
      "Model saved as checkpoints/latest_mae_segmenter_vit_base_mask_cityscapes_os16.pth\n",
      "validation...\n"
     ]
    },
    {
     "name": "stderr",
     "output_type": "stream",
     "text": [
      "500it [02:09,  3.85it/s]\n"
     ]
    },
    {
     "name": "stdout",
     "output_type": "stream",
     "text": [
      "\n",
      "Overall Acc: 0.955237\n",
      "Mean Acc: 0.814236\n",
      "FreqW Acc: 0.917618\n",
      "Mean IoU: 0.735588\n",
      "\n",
      "Epoch 50, Itrs 145827/297500, Loss=0.108349\n",
      "Epoch 50, Itrs 146124/297500, Loss=0.102679\n",
      "Epoch 50, Itrs 146421/297500, Loss=0.112809\n",
      "Epoch 50, Itrs 146718/297500, Loss=0.107507\n",
      "Epoch 50, Itrs 147015/297500, Loss=0.101499\n",
      "Epoch 50, Itrs 147312/297500, Loss=0.100757\n",
      "Epoch 50, Itrs 147609/297500, Loss=0.104440\n",
      "Epoch 50, Itrs 147906/297500, Loss=0.109498\n",
      "Epoch 50, Itrs 148203/297500, Loss=0.109306\n",
      "Epoch 50, Itrs 148500/297500, Loss=0.103145\n",
      "Model saved as checkpoints/latest_mae_segmenter_vit_base_mask_cityscapes_os16.pth\n",
      "validation...\n"
     ]
    },
    {
     "name": "stderr",
     "output_type": "stream",
     "text": [
      "500it [02:08,  3.90it/s]\n"
     ]
    },
    {
     "name": "stdout",
     "output_type": "stream",
     "text": [
      "\n",
      "Overall Acc: 0.954348\n",
      "Mean Acc: 0.814900\n",
      "FreqW Acc: 0.915708\n",
      "Mean IoU: 0.734023\n",
      "\n",
      "Epoch 51, Itrs 148797/297500, Loss=0.099887\n",
      "Epoch 51, Itrs 149094/297500, Loss=0.103693\n",
      "Epoch 51, Itrs 149391/297500, Loss=0.099969\n",
      "Epoch 51, Itrs 149688/297500, Loss=0.111123\n",
      "Epoch 51, Itrs 149985/297500, Loss=0.101368\n",
      "Epoch 51, Itrs 150282/297500, Loss=0.102749\n",
      "Epoch 51, Itrs 150579/297500, Loss=0.101129\n",
      "Epoch 51, Itrs 150876/297500, Loss=0.109381\n",
      "Epoch 51, Itrs 151173/297500, Loss=0.111752\n",
      "Epoch 51, Itrs 151470/297500, Loss=0.097701\n",
      "Model saved as checkpoints/latest_mae_segmenter_vit_base_mask_cityscapes_os16.pth\n",
      "validation...\n"
     ]
    },
    {
     "name": "stderr",
     "output_type": "stream",
     "text": [
      "500it [02:09,  3.85it/s]\n"
     ]
    },
    {
     "name": "stdout",
     "output_type": "stream",
     "text": [
      "\n",
      "Overall Acc: 0.955602\n",
      "Mean Acc: 0.820101\n",
      "FreqW Acc: 0.918423\n",
      "Mean IoU: 0.742617\n",
      "\n",
      "Model saved as checkpoints/best_mae_segmenter_vit_base_mask_cityscapes_os16.pth\n",
      "Epoch 52, Itrs 151767/297500, Loss=0.101643\n",
      "Epoch 52, Itrs 152064/297500, Loss=0.103944\n",
      "Epoch 52, Itrs 152361/297500, Loss=0.106201\n",
      "Epoch 52, Itrs 152658/297500, Loss=0.101823\n",
      "Epoch 52, Itrs 152955/297500, Loss=0.103514\n",
      "Epoch 52, Itrs 153252/297500, Loss=0.105658\n",
      "Epoch 52, Itrs 153549/297500, Loss=0.104872\n",
      "Epoch 52, Itrs 153846/297500, Loss=0.104811\n",
      "Epoch 52, Itrs 154143/297500, Loss=0.104589\n",
      "Epoch 52, Itrs 154440/297500, Loss=0.100299\n",
      "Model saved as checkpoints/latest_mae_segmenter_vit_base_mask_cityscapes_os16.pth\n",
      "validation...\n"
     ]
    },
    {
     "name": "stderr",
     "output_type": "stream",
     "text": [
      "500it [02:10,  3.83it/s]\n"
     ]
    },
    {
     "name": "stdout",
     "output_type": "stream",
     "text": [
      "\n",
      "Overall Acc: 0.956842\n",
      "Mean Acc: 0.830001\n",
      "FreqW Acc: 0.920861\n",
      "Mean IoU: 0.747636\n",
      "\n",
      "Model saved as checkpoints/best_mae_segmenter_vit_base_mask_cityscapes_os16.pth\n",
      "Epoch 53, Itrs 154737/297500, Loss=0.103471\n",
      "Epoch 53, Itrs 155034/297500, Loss=0.103567\n",
      "Epoch 53, Itrs 155331/297500, Loss=0.104913\n",
      "Epoch 53, Itrs 155628/297500, Loss=0.101152\n",
      "Epoch 53, Itrs 155925/297500, Loss=0.102580\n",
      "Epoch 53, Itrs 156222/297500, Loss=0.100093\n",
      "Epoch 53, Itrs 156519/297500, Loss=0.109513\n",
      "Epoch 53, Itrs 156816/297500, Loss=0.101168\n",
      "Epoch 53, Itrs 157113/297500, Loss=0.099665\n",
      "Epoch 53, Itrs 157410/297500, Loss=0.112943\n",
      "Model saved as checkpoints/latest_mae_segmenter_vit_base_mask_cityscapes_os16.pth\n",
      "validation...\n"
     ]
    },
    {
     "name": "stderr",
     "output_type": "stream",
     "text": [
      "500it [02:10,  3.84it/s]\n"
     ]
    },
    {
     "name": "stdout",
     "output_type": "stream",
     "text": [
      "\n",
      "Overall Acc: 0.956242\n",
      "Mean Acc: 0.822980\n",
      "FreqW Acc: 0.919297\n",
      "Mean IoU: 0.746836\n",
      "\n",
      "Epoch 54, Itrs 157707/297500, Loss=0.102202\n",
      "Epoch 54, Itrs 158004/297500, Loss=0.112446\n",
      "Epoch 54, Itrs 158301/297500, Loss=0.105528\n",
      "Epoch 54, Itrs 158598/297500, Loss=0.108292\n",
      "Epoch 54, Itrs 158895/297500, Loss=0.101865\n",
      "Epoch 54, Itrs 159192/297500, Loss=0.101107\n",
      "Epoch 54, Itrs 159489/297500, Loss=0.106161\n",
      "Epoch 54, Itrs 159786/297500, Loss=0.103038\n",
      "Epoch 54, Itrs 160083/297500, Loss=0.102884\n",
      "Epoch 54, Itrs 160380/297500, Loss=0.107056\n",
      "Model saved as checkpoints/latest_mae_segmenter_vit_base_mask_cityscapes_os16.pth\n",
      "validation...\n"
     ]
    },
    {
     "name": "stderr",
     "output_type": "stream",
     "text": [
      "500it [02:09,  3.87it/s]\n"
     ]
    },
    {
     "name": "stdout",
     "output_type": "stream",
     "text": [
      "\n",
      "Overall Acc: 0.956563\n",
      "Mean Acc: 0.829292\n",
      "FreqW Acc: 0.919894\n",
      "Mean IoU: 0.751463\n",
      "\n",
      "Model saved as checkpoints/best_mae_segmenter_vit_base_mask_cityscapes_os16.pth\n",
      "Epoch 55, Itrs 160677/297500, Loss=0.100647\n",
      "Epoch 55, Itrs 160974/297500, Loss=0.113113\n",
      "Epoch 55, Itrs 161271/297500, Loss=0.111875\n",
      "Epoch 55, Itrs 161568/297500, Loss=0.098149\n",
      "Epoch 55, Itrs 161865/297500, Loss=0.100886\n",
      "Epoch 55, Itrs 162162/297500, Loss=0.103203\n",
      "Epoch 55, Itrs 162459/297500, Loss=0.109593\n",
      "Epoch 55, Itrs 162756/297500, Loss=0.102340\n",
      "Epoch 55, Itrs 163053/297500, Loss=0.103985\n",
      "Epoch 55, Itrs 163350/297500, Loss=0.107719\n",
      "Model saved as checkpoints/latest_mae_segmenter_vit_base_mask_cityscapes_os16.pth\n",
      "validation...\n"
     ]
    },
    {
     "name": "stderr",
     "output_type": "stream",
     "text": [
      "500it [02:11,  3.79it/s]\n"
     ]
    },
    {
     "name": "stdout",
     "output_type": "stream",
     "text": [
      "\n",
      "Overall Acc: 0.954610\n",
      "Mean Acc: 0.819089\n",
      "FreqW Acc: 0.916822\n",
      "Mean IoU: 0.727691\n",
      "\n",
      "Epoch 56, Itrs 163647/297500, Loss=0.103106\n",
      "Epoch 56, Itrs 163944/297500, Loss=0.094596\n",
      "Epoch 56, Itrs 164241/297500, Loss=0.099505\n",
      "Epoch 56, Itrs 164538/297500, Loss=0.101757\n",
      "Epoch 56, Itrs 164835/297500, Loss=0.103951\n",
      "Epoch 56, Itrs 165132/297500, Loss=0.102731\n",
      "Epoch 56, Itrs 165429/297500, Loss=0.104105\n",
      "Epoch 56, Itrs 165726/297500, Loss=0.103538\n",
      "Epoch 56, Itrs 166023/297500, Loss=0.107828\n",
      "Epoch 56, Itrs 166320/297500, Loss=0.098286\n",
      "Model saved as checkpoints/latest_mae_segmenter_vit_base_mask_cityscapes_os16.pth\n",
      "validation...\n"
     ]
    },
    {
     "name": "stderr",
     "output_type": "stream",
     "text": [
      "500it [02:11,  3.80it/s]\n"
     ]
    },
    {
     "name": "stdout",
     "output_type": "stream",
     "text": [
      "\n",
      "Overall Acc: 0.954197\n",
      "Mean Acc: 0.822804\n",
      "FreqW Acc: 0.915938\n",
      "Mean IoU: 0.744897\n",
      "\n",
      "Epoch 57, Itrs 166617/297500, Loss=0.102142\n",
      "Epoch 57, Itrs 166914/297500, Loss=0.100063\n",
      "Epoch 57, Itrs 167211/297500, Loss=0.102975\n",
      "Epoch 57, Itrs 167508/297500, Loss=0.101527\n",
      "Epoch 57, Itrs 167805/297500, Loss=0.101225\n",
      "Epoch 57, Itrs 168102/297500, Loss=0.103063\n",
      "Epoch 57, Itrs 168399/297500, Loss=0.101249\n",
      "Epoch 57, Itrs 168696/297500, Loss=0.100614\n",
      "Epoch 57, Itrs 168993/297500, Loss=0.100832\n",
      "Epoch 57, Itrs 169290/297500, Loss=0.097594\n",
      "Model saved as checkpoints/latest_mae_segmenter_vit_base_mask_cityscapes_os16.pth\n",
      "validation...\n"
     ]
    },
    {
     "name": "stderr",
     "output_type": "stream",
     "text": [
      "500it [02:10,  3.83it/s]\n"
     ]
    },
    {
     "name": "stdout",
     "output_type": "stream",
     "text": [
      "\n",
      "Overall Acc: 0.955748\n",
      "Mean Acc: 0.813576\n",
      "FreqW Acc: 0.918003\n",
      "Mean IoU: 0.744459\n",
      "\n",
      "Epoch 58, Itrs 169587/297500, Loss=0.096544\n",
      "Epoch 58, Itrs 169884/297500, Loss=0.104589\n",
      "Epoch 58, Itrs 170181/297500, Loss=0.096080\n",
      "Epoch 58, Itrs 170478/297500, Loss=0.103367\n",
      "Epoch 58, Itrs 170775/297500, Loss=0.094447\n",
      "Epoch 58, Itrs 171072/297500, Loss=0.107618\n",
      "Epoch 58, Itrs 171369/297500, Loss=0.098692\n",
      "Epoch 58, Itrs 171666/297500, Loss=0.103599\n",
      "Epoch 58, Itrs 171963/297500, Loss=0.099325\n",
      "Epoch 58, Itrs 172260/297500, Loss=0.102123\n",
      "Model saved as checkpoints/latest_mae_segmenter_vit_base_mask_cityscapes_os16.pth\n",
      "validation...\n"
     ]
    },
    {
     "name": "stderr",
     "output_type": "stream",
     "text": [
      "500it [02:20,  3.56it/s]\n"
     ]
    },
    {
     "name": "stdout",
     "output_type": "stream",
     "text": [
      "\n",
      "Overall Acc: 0.954998\n",
      "Mean Acc: 0.820013\n",
      "FreqW Acc: 0.917435\n",
      "Mean IoU: 0.735089\n",
      "\n",
      "Epoch 59, Itrs 172557/297500, Loss=0.104796\n",
      "Epoch 59, Itrs 172854/297500, Loss=0.105242\n",
      "Epoch 59, Itrs 173151/297500, Loss=0.103875\n",
      "Epoch 59, Itrs 173448/297500, Loss=0.097114\n",
      "Epoch 59, Itrs 173745/297500, Loss=0.098401\n",
      "Epoch 59, Itrs 174042/297500, Loss=0.103320\n",
      "Epoch 59, Itrs 174339/297500, Loss=0.098603\n",
      "Epoch 59, Itrs 174636/297500, Loss=0.105320\n",
      "Epoch 59, Itrs 174933/297500, Loss=0.098127\n",
      "Epoch 59, Itrs 175230/297500, Loss=0.101495\n",
      "Model saved as checkpoints/latest_mae_segmenter_vit_base_mask_cityscapes_os16.pth\n",
      "validation...\n"
     ]
    },
    {
     "name": "stderr",
     "output_type": "stream",
     "text": [
      "500it [02:20,  3.56it/s]\n"
     ]
    },
    {
     "name": "stdout",
     "output_type": "stream",
     "text": [
      "\n",
      "Overall Acc: 0.954889\n",
      "Mean Acc: 0.830058\n",
      "FreqW Acc: 0.917165\n",
      "Mean IoU: 0.750267\n",
      "\n",
      "Epoch 60, Itrs 175527/297500, Loss=0.107711\n",
      "Epoch 60, Itrs 175824/297500, Loss=0.098940\n",
      "Epoch 60, Itrs 176121/297500, Loss=0.100098\n",
      "Epoch 60, Itrs 176418/297500, Loss=0.104820\n",
      "Epoch 60, Itrs 176715/297500, Loss=0.105362\n",
      "Epoch 60, Itrs 177012/297500, Loss=0.099339\n",
      "Epoch 60, Itrs 177309/297500, Loss=0.110271\n",
      "Epoch 60, Itrs 177606/297500, Loss=0.111852\n",
      "Epoch 60, Itrs 177903/297500, Loss=0.097091\n",
      "Epoch 60, Itrs 178200/297500, Loss=0.095958\n",
      "Epoch 60, Itrs 178497/297500, Loss=0.094804\n",
      "Model saved as checkpoints/latest_mae_segmenter_vit_base_mask_cityscapes_os16.pth\n",
      "validation...\n"
     ]
    },
    {
     "name": "stderr",
     "output_type": "stream",
     "text": [
      "500it [02:16,  3.66it/s]\n"
     ]
    },
    {
     "name": "stdout",
     "output_type": "stream",
     "text": [
      "\n",
      "Overall Acc: 0.956252\n",
      "Mean Acc: 0.818586\n",
      "FreqW Acc: 0.919696\n",
      "Mean IoU: 0.742348\n",
      "\n",
      "Epoch 61, Itrs 178794/297500, Loss=0.098787\n",
      "Epoch 61, Itrs 179091/297500, Loss=0.101842\n",
      "Epoch 61, Itrs 179388/297500, Loss=0.096389\n",
      "Epoch 61, Itrs 179685/297500, Loss=0.102005\n",
      "Epoch 61, Itrs 179982/297500, Loss=0.102787\n",
      "Epoch 61, Itrs 180279/297500, Loss=0.101979\n",
      "Epoch 61, Itrs 180576/297500, Loss=0.104018\n",
      "Epoch 61, Itrs 180873/297500, Loss=0.102616\n",
      "Epoch 61, Itrs 181170/297500, Loss=0.097104\n",
      "Epoch 61, Itrs 181467/297500, Loss=0.100232\n",
      "Model saved as checkpoints/latest_mae_segmenter_vit_base_mask_cityscapes_os16.pth\n",
      "validation...\n"
     ]
    },
    {
     "name": "stderr",
     "output_type": "stream",
     "text": [
      "500it [02:19,  3.58it/s]\n"
     ]
    },
    {
     "name": "stdout",
     "output_type": "stream",
     "text": [
      "\n",
      "Overall Acc: 0.956462\n",
      "Mean Acc: 0.819338\n",
      "FreqW Acc: 0.919457\n",
      "Mean IoU: 0.744166\n",
      "\n",
      "Epoch 62, Itrs 181764/297500, Loss=0.098713\n",
      "Epoch 62, Itrs 182061/297500, Loss=0.096736\n",
      "Epoch 62, Itrs 182358/297500, Loss=0.096915\n",
      "Epoch 62, Itrs 182655/297500, Loss=0.094229\n",
      "Epoch 62, Itrs 182952/297500, Loss=0.107182\n",
      "Epoch 62, Itrs 183249/297500, Loss=0.100308\n",
      "Epoch 62, Itrs 183546/297500, Loss=0.102309\n",
      "Epoch 62, Itrs 183843/297500, Loss=0.105053\n",
      "Epoch 62, Itrs 184140/297500, Loss=0.109995\n",
      "Epoch 62, Itrs 184437/297500, Loss=0.096020\n",
      "Model saved as checkpoints/latest_mae_segmenter_vit_base_mask_cityscapes_os16.pth\n",
      "validation...\n"
     ]
    },
    {
     "name": "stderr",
     "output_type": "stream",
     "text": [
      "500it [02:11,  3.81it/s]\n"
     ]
    },
    {
     "name": "stdout",
     "output_type": "stream",
     "text": [
      "\n",
      "Overall Acc: 0.953146\n",
      "Mean Acc: 0.816051\n",
      "FreqW Acc: 0.914212\n",
      "Mean IoU: 0.733750\n",
      "\n",
      "Epoch 63, Itrs 184734/297500, Loss=0.101498\n",
      "Epoch 63, Itrs 185031/297500, Loss=0.103099\n",
      "Epoch 63, Itrs 185328/297500, Loss=0.100961\n",
      "Epoch 63, Itrs 185625/297500, Loss=0.099752\n",
      "Epoch 63, Itrs 185922/297500, Loss=0.102008\n",
      "Epoch 63, Itrs 186219/297500, Loss=0.102518\n",
      "Epoch 63, Itrs 186516/297500, Loss=0.104599\n",
      "Epoch 63, Itrs 186813/297500, Loss=0.102320\n",
      "Epoch 63, Itrs 187110/297500, Loss=0.101733\n",
      "Epoch 63, Itrs 187407/297500, Loss=0.098115\n",
      "Model saved as checkpoints/latest_mae_segmenter_vit_base_mask_cityscapes_os16.pth\n",
      "validation...\n"
     ]
    },
    {
     "name": "stderr",
     "output_type": "stream",
     "text": [
      "500it [02:09,  3.85it/s]\n"
     ]
    },
    {
     "name": "stdout",
     "output_type": "stream",
     "text": [
      "\n",
      "Overall Acc: 0.955544\n",
      "Mean Acc: 0.820529\n",
      "FreqW Acc: 0.918217\n",
      "Mean IoU: 0.745277\n",
      "\n",
      "Epoch 64, Itrs 187704/297500, Loss=0.098968\n",
      "Epoch 64, Itrs 188001/297500, Loss=0.104943\n",
      "Epoch 64, Itrs 188298/297500, Loss=0.096995\n",
      "Epoch 64, Itrs 188595/297500, Loss=0.107865\n",
      "Epoch 64, Itrs 188892/297500, Loss=0.107285\n",
      "Epoch 64, Itrs 189189/297500, Loss=0.096958\n",
      "Epoch 64, Itrs 189486/297500, Loss=0.101343\n",
      "Epoch 64, Itrs 189783/297500, Loss=0.098406\n",
      "Epoch 64, Itrs 190080/297500, Loss=0.095875\n",
      "Epoch 64, Itrs 190377/297500, Loss=0.109571\n",
      "Model saved as checkpoints/latest_mae_segmenter_vit_base_mask_cityscapes_os16.pth\n",
      "validation...\n"
     ]
    },
    {
     "name": "stderr",
     "output_type": "stream",
     "text": [
      "500it [02:09,  3.85it/s]\n"
     ]
    },
    {
     "name": "stdout",
     "output_type": "stream",
     "text": [
      "\n",
      "Overall Acc: 0.954735\n",
      "Mean Acc: 0.822353\n",
      "FreqW Acc: 0.916694\n",
      "Mean IoU: 0.738940\n",
      "\n",
      "Epoch 65, Itrs 190674/297500, Loss=0.106823\n",
      "Epoch 65, Itrs 190971/297500, Loss=0.097181\n",
      "Epoch 65, Itrs 191268/297500, Loss=0.097126\n",
      "Epoch 65, Itrs 191565/297500, Loss=0.106663\n",
      "Epoch 65, Itrs 191862/297500, Loss=0.099676\n",
      "Epoch 65, Itrs 192159/297500, Loss=0.095213\n",
      "Epoch 65, Itrs 192456/297500, Loss=0.101016\n",
      "Epoch 65, Itrs 192753/297500, Loss=0.105582\n",
      "Epoch 65, Itrs 193050/297500, Loss=0.105240\n",
      "Epoch 65, Itrs 193347/297500, Loss=0.099978\n",
      "Model saved as checkpoints/latest_mae_segmenter_vit_base_mask_cityscapes_os16.pth\n",
      "validation...\n"
     ]
    },
    {
     "name": "stderr",
     "output_type": "stream",
     "text": [
      "500it [02:09,  3.85it/s]\n"
     ]
    },
    {
     "name": "stdout",
     "output_type": "stream",
     "text": [
      "\n",
      "Overall Acc: 0.955458\n",
      "Mean Acc: 0.823248\n",
      "FreqW Acc: 0.917906\n",
      "Mean IoU: 0.744144\n",
      "\n",
      "Epoch 66, Itrs 193644/297500, Loss=0.100062\n",
      "Epoch 66, Itrs 193941/297500, Loss=0.099445\n",
      "Epoch 66, Itrs 194238/297500, Loss=0.096534\n",
      "Epoch 66, Itrs 194535/297500, Loss=0.099440\n",
      "Epoch 66, Itrs 194832/297500, Loss=0.101925\n",
      "Epoch 66, Itrs 195129/297500, Loss=0.091337\n",
      "Epoch 66, Itrs 195426/297500, Loss=0.099911\n",
      "Epoch 66, Itrs 195723/297500, Loss=0.097208\n",
      "Epoch 66, Itrs 196020/297500, Loss=0.097985\n",
      "Epoch 66, Itrs 196317/297500, Loss=0.101819\n",
      "Model saved as checkpoints/latest_mae_segmenter_vit_base_mask_cityscapes_os16.pth\n",
      "validation...\n"
     ]
    },
    {
     "name": "stderr",
     "output_type": "stream",
     "text": [
      "500it [02:12,  3.78it/s]\n"
     ]
    },
    {
     "name": "stdout",
     "output_type": "stream",
     "text": [
      "\n",
      "Overall Acc: 0.955592\n",
      "Mean Acc: 0.815022\n",
      "FreqW Acc: 0.918065\n",
      "Mean IoU: 0.744239\n",
      "\n",
      "Epoch 67, Itrs 196614/297500, Loss=0.103200\n",
      "Epoch 67, Itrs 196911/297500, Loss=0.091232\n",
      "Epoch 67, Itrs 197208/297500, Loss=0.096437\n",
      "Epoch 67, Itrs 197505/297500, Loss=0.097294\n",
      "Epoch 67, Itrs 197802/297500, Loss=0.106758\n",
      "Epoch 67, Itrs 198099/297500, Loss=0.101404\n",
      "Epoch 67, Itrs 198396/297500, Loss=0.098771\n",
      "Epoch 67, Itrs 198693/297500, Loss=0.105327\n",
      "Epoch 67, Itrs 198990/297500, Loss=0.101771\n",
      "Epoch 67, Itrs 199287/297500, Loss=0.098378\n",
      "Model saved as checkpoints/latest_mae_segmenter_vit_base_mask_cityscapes_os16.pth\n",
      "validation...\n"
     ]
    },
    {
     "name": "stderr",
     "output_type": "stream",
     "text": [
      "500it [02:08,  3.88it/s]\n"
     ]
    },
    {
     "name": "stdout",
     "output_type": "stream",
     "text": [
      "\n",
      "Overall Acc: 0.956862\n",
      "Mean Acc: 0.827040\n",
      "FreqW Acc: 0.920386\n",
      "Mean IoU: 0.749206\n",
      "\n",
      "Epoch 68, Itrs 199584/297500, Loss=0.094231\n",
      "Epoch 68, Itrs 199881/297500, Loss=0.098904\n",
      "Epoch 68, Itrs 200178/297500, Loss=0.099649\n",
      "Epoch 68, Itrs 200475/297500, Loss=0.100646\n",
      "Epoch 68, Itrs 200772/297500, Loss=0.094589\n",
      "Epoch 68, Itrs 201069/297500, Loss=0.099697\n",
      "Epoch 68, Itrs 201366/297500, Loss=0.098583\n",
      "Epoch 68, Itrs 201663/297500, Loss=0.091327\n",
      "Epoch 68, Itrs 201960/297500, Loss=0.103075\n",
      "Epoch 68, Itrs 202257/297500, Loss=0.101735\n",
      "Model saved as checkpoints/latest_mae_segmenter_vit_base_mask_cityscapes_os16.pth\n",
      "validation...\n"
     ]
    },
    {
     "name": "stderr",
     "output_type": "stream",
     "text": [
      "500it [02:12,  3.77it/s]\n"
     ]
    },
    {
     "name": "stdout",
     "output_type": "stream",
     "text": [
      "\n",
      "Overall Acc: 0.954933\n",
      "Mean Acc: 0.815580\n",
      "FreqW Acc: 0.917250\n",
      "Mean IoU: 0.740142\n",
      "\n",
      "Epoch 69, Itrs 202554/297500, Loss=0.098140\n",
      "Epoch 69, Itrs 202851/297500, Loss=0.098934\n",
      "Epoch 69, Itrs 203148/297500, Loss=0.098678\n",
      "Epoch 69, Itrs 203445/297500, Loss=0.100819\n",
      "Epoch 69, Itrs 203742/297500, Loss=0.097742\n",
      "Epoch 69, Itrs 204039/297500, Loss=0.098222\n",
      "Epoch 69, Itrs 204336/297500, Loss=0.101145\n",
      "Epoch 69, Itrs 204633/297500, Loss=0.095385\n",
      "Epoch 69, Itrs 204930/297500, Loss=0.098785\n",
      "Epoch 69, Itrs 205227/297500, Loss=0.104126\n",
      "Model saved as checkpoints/latest_mae_segmenter_vit_base_mask_cityscapes_os16.pth\n",
      "validation...\n"
     ]
    },
    {
     "name": "stderr",
     "output_type": "stream",
     "text": [
      "500it [02:10,  3.84it/s]\n"
     ]
    },
    {
     "name": "stdout",
     "output_type": "stream",
     "text": [
      "\n",
      "Overall Acc: 0.956489\n",
      "Mean Acc: 0.822904\n",
      "FreqW Acc: 0.919401\n",
      "Mean IoU: 0.751413\n",
      "\n",
      "Epoch 70, Itrs 205524/297500, Loss=0.097902\n",
      "Epoch 70, Itrs 205821/297500, Loss=0.093041\n",
      "Epoch 70, Itrs 206118/297500, Loss=0.095506\n",
      "Epoch 70, Itrs 206415/297500, Loss=0.092994\n",
      "Epoch 70, Itrs 206712/297500, Loss=0.094941\n",
      "Epoch 70, Itrs 207009/297500, Loss=0.108679\n",
      "Epoch 70, Itrs 207306/297500, Loss=0.100412\n",
      "Epoch 70, Itrs 207603/297500, Loss=0.101254\n",
      "Epoch 70, Itrs 207900/297500, Loss=0.103034\n",
      "Epoch 70, Itrs 208197/297500, Loss=0.100208\n",
      "Model saved as checkpoints/latest_mae_segmenter_vit_base_mask_cityscapes_os16.pth\n",
      "validation...\n"
     ]
    },
    {
     "name": "stderr",
     "output_type": "stream",
     "text": [
      "500it [02:11,  3.80it/s]\n"
     ]
    },
    {
     "name": "stdout",
     "output_type": "stream",
     "text": [
      "\n",
      "Overall Acc: 0.954963\n",
      "Mean Acc: 0.814170\n",
      "FreqW Acc: 0.917111\n",
      "Mean IoU: 0.732671\n",
      "\n",
      "Epoch 71, Itrs 208494/297500, Loss=0.095849\n",
      "Epoch 71, Itrs 208791/297500, Loss=0.097441\n",
      "Epoch 71, Itrs 209088/297500, Loss=0.100081\n",
      "Epoch 71, Itrs 209385/297500, Loss=0.100185\n",
      "Epoch 71, Itrs 209682/297500, Loss=0.092221\n",
      "Epoch 71, Itrs 209979/297500, Loss=0.100248\n",
      "Epoch 71, Itrs 210276/297500, Loss=0.102107\n",
      "Epoch 71, Itrs 210573/297500, Loss=0.095444\n",
      "Epoch 71, Itrs 210870/297500, Loss=0.097515\n",
      "Epoch 71, Itrs 211167/297500, Loss=0.097689\n",
      "Model saved as checkpoints/latest_mae_segmenter_vit_base_mask_cityscapes_os16.pth\n",
      "validation...\n"
     ]
    },
    {
     "name": "stderr",
     "output_type": "stream",
     "text": [
      "500it [02:11,  3.80it/s]\n"
     ]
    },
    {
     "name": "stdout",
     "output_type": "stream",
     "text": [
      "\n",
      "Overall Acc: 0.956273\n",
      "Mean Acc: 0.818582\n",
      "FreqW Acc: 0.919283\n",
      "Mean IoU: 0.745636\n",
      "\n",
      "Epoch 72, Itrs 211464/297500, Loss=0.093172\n",
      "Epoch 72, Itrs 211761/297500, Loss=0.098349\n",
      "Epoch 72, Itrs 212058/297500, Loss=0.097553\n",
      "Epoch 72, Itrs 212355/297500, Loss=0.097111\n",
      "Epoch 72, Itrs 212652/297500, Loss=0.095971\n",
      "Epoch 72, Itrs 212949/297500, Loss=0.098792\n",
      "Epoch 72, Itrs 213246/297500, Loss=0.096234\n",
      "Epoch 72, Itrs 213543/297500, Loss=0.097517\n",
      "Epoch 72, Itrs 213840/297500, Loss=0.096114\n",
      "Epoch 72, Itrs 214137/297500, Loss=0.102066\n",
      "Model saved as checkpoints/latest_mae_segmenter_vit_base_mask_cityscapes_os16.pth\n",
      "validation...\n"
     ]
    },
    {
     "name": "stderr",
     "output_type": "stream",
     "text": [
      "500it [02:04,  4.02it/s]\n"
     ]
    },
    {
     "name": "stdout",
     "output_type": "stream",
     "text": [
      "\n",
      "Overall Acc: 0.956426\n",
      "Mean Acc: 0.823654\n",
      "FreqW Acc: 0.919532\n",
      "Mean IoU: 0.751454\n",
      "\n",
      "Epoch 73, Itrs 214434/297500, Loss=0.099295\n",
      "Epoch 73, Itrs 214731/297500, Loss=0.094834\n",
      "Epoch 73, Itrs 215028/297500, Loss=0.096169\n",
      "Epoch 73, Itrs 215325/297500, Loss=0.095174\n",
      "Epoch 73, Itrs 215622/297500, Loss=0.098309\n",
      "Epoch 73, Itrs 215919/297500, Loss=0.095746\n",
      "Epoch 73, Itrs 216216/297500, Loss=0.103932\n",
      "Epoch 73, Itrs 216513/297500, Loss=0.095679\n",
      "Epoch 73, Itrs 216810/297500, Loss=0.093277\n",
      "Epoch 73, Itrs 217107/297500, Loss=0.095472\n",
      "Model saved as checkpoints/latest_mae_segmenter_vit_base_mask_cityscapes_os16.pth\n",
      "validation...\n"
     ]
    },
    {
     "name": "stderr",
     "output_type": "stream",
     "text": [
      "500it [02:08,  3.90it/s]\n"
     ]
    },
    {
     "name": "stdout",
     "output_type": "stream",
     "text": [
      "\n",
      "Overall Acc: 0.957046\n",
      "Mean Acc: 0.834226\n",
      "FreqW Acc: 0.920897\n",
      "Mean IoU: 0.753574\n",
      "\n",
      "Model saved as checkpoints/best_mae_segmenter_vit_base_mask_cityscapes_os16.pth\n",
      "Epoch 74, Itrs 217404/297500, Loss=0.098501\n",
      "Epoch 74, Itrs 217701/297500, Loss=0.093988\n",
      "Epoch 74, Itrs 217998/297500, Loss=0.096011\n",
      "Epoch 74, Itrs 218295/297500, Loss=0.096202\n",
      "Epoch 74, Itrs 218592/297500, Loss=0.099959\n",
      "Epoch 74, Itrs 218889/297500, Loss=0.098469\n",
      "Epoch 74, Itrs 219186/297500, Loss=0.100281\n",
      "Epoch 74, Itrs 219483/297500, Loss=0.096716\n",
      "Epoch 74, Itrs 219780/297500, Loss=0.099475\n",
      "Epoch 74, Itrs 220077/297500, Loss=0.095893\n",
      "Model saved as checkpoints/latest_mae_segmenter_vit_base_mask_cityscapes_os16.pth\n",
      "validation...\n"
     ]
    },
    {
     "name": "stderr",
     "output_type": "stream",
     "text": [
      "500it [02:08,  3.89it/s]\n"
     ]
    },
    {
     "name": "stdout",
     "output_type": "stream",
     "text": [
      "\n",
      "Overall Acc: 0.956914\n",
      "Mean Acc: 0.833419\n",
      "FreqW Acc: 0.920502\n",
      "Mean IoU: 0.753742\n",
      "\n",
      "Model saved as checkpoints/best_mae_segmenter_vit_base_mask_cityscapes_os16.pth\n",
      "Epoch 75, Itrs 220374/297500, Loss=0.095037\n",
      "Epoch 75, Itrs 220671/297500, Loss=0.096549\n",
      "Epoch 75, Itrs 220968/297500, Loss=0.101188\n",
      "Epoch 75, Itrs 221265/297500, Loss=0.096934\n",
      "Epoch 75, Itrs 221562/297500, Loss=0.104958\n",
      "Epoch 75, Itrs 221859/297500, Loss=0.095331\n",
      "Epoch 75, Itrs 222156/297500, Loss=0.097556\n",
      "Epoch 75, Itrs 222453/297500, Loss=0.092417\n",
      "Epoch 75, Itrs 222750/297500, Loss=0.093916\n",
      "Epoch 75, Itrs 223047/297500, Loss=0.095724\n",
      "Model saved as checkpoints/latest_mae_segmenter_vit_base_mask_cityscapes_os16.pth\n",
      "validation...\n"
     ]
    },
    {
     "name": "stderr",
     "output_type": "stream",
     "text": [
      "500it [02:09,  3.86it/s]\n"
     ]
    },
    {
     "name": "stdout",
     "output_type": "stream",
     "text": [
      "\n",
      "Overall Acc: 0.957069\n",
      "Mean Acc: 0.827802\n",
      "FreqW Acc: 0.920562\n",
      "Mean IoU: 0.755798\n",
      "\n",
      "Model saved as checkpoints/best_mae_segmenter_vit_base_mask_cityscapes_os16.pth\n",
      "Epoch 76, Itrs 223344/297500, Loss=0.097108\n",
      "Epoch 76, Itrs 223641/297500, Loss=0.101576\n",
      "Epoch 76, Itrs 223938/297500, Loss=0.094388\n",
      "Epoch 76, Itrs 224235/297500, Loss=0.094007\n",
      "Epoch 76, Itrs 224532/297500, Loss=0.099576\n",
      "Epoch 76, Itrs 224829/297500, Loss=0.097056\n",
      "Epoch 76, Itrs 225126/297500, Loss=0.099407\n",
      "Epoch 76, Itrs 225423/297500, Loss=0.092826\n",
      "Epoch 76, Itrs 225720/297500, Loss=0.095721\n",
      "Epoch 76, Itrs 226017/297500, Loss=0.093162\n",
      "Model saved as checkpoints/latest_mae_segmenter_vit_base_mask_cityscapes_os16.pth\n",
      "validation...\n"
     ]
    },
    {
     "name": "stderr",
     "output_type": "stream",
     "text": [
      "500it [02:08,  3.90it/s]\n"
     ]
    },
    {
     "name": "stdout",
     "output_type": "stream",
     "text": [
      "\n",
      "Overall Acc: 0.956679\n",
      "Mean Acc: 0.829778\n",
      "FreqW Acc: 0.920328\n",
      "Mean IoU: 0.756498\n",
      "\n",
      "Model saved as checkpoints/best_mae_segmenter_vit_base_mask_cityscapes_os16.pth\n",
      "Epoch 77, Itrs 226314/297500, Loss=0.096952\n",
      "Epoch 77, Itrs 226611/297500, Loss=0.095047\n",
      "Epoch 77, Itrs 226908/297500, Loss=0.096808\n",
      "Epoch 77, Itrs 227205/297500, Loss=0.100307\n",
      "Epoch 77, Itrs 227502/297500, Loss=0.097136\n",
      "Epoch 77, Itrs 227799/297500, Loss=0.100832\n",
      "Epoch 77, Itrs 228096/297500, Loss=0.099866\n",
      "Epoch 77, Itrs 228393/297500, Loss=0.098775\n",
      "Epoch 77, Itrs 228690/297500, Loss=0.094359\n",
      "Epoch 77, Itrs 228987/297500, Loss=0.098754\n",
      "Model saved as checkpoints/latest_mae_segmenter_vit_base_mask_cityscapes_os16.pth\n",
      "validation...\n"
     ]
    },
    {
     "name": "stderr",
     "output_type": "stream",
     "text": [
      "500it [02:08,  3.90it/s]\n"
     ]
    },
    {
     "name": "stdout",
     "output_type": "stream",
     "text": [
      "\n",
      "Overall Acc: 0.957796\n",
      "Mean Acc: 0.831686\n",
      "FreqW Acc: 0.922226\n",
      "Mean IoU: 0.756956\n",
      "\n",
      "Model saved as checkpoints/best_mae_segmenter_vit_base_mask_cityscapes_os16.pth\n",
      "Epoch 78, Itrs 229284/297500, Loss=0.096403\n",
      "Epoch 78, Itrs 229581/297500, Loss=0.096092\n",
      "Epoch 78, Itrs 229878/297500, Loss=0.096184\n",
      "Epoch 78, Itrs 230175/297500, Loss=0.096842\n",
      "Epoch 78, Itrs 230472/297500, Loss=0.093593\n",
      "Epoch 78, Itrs 230769/297500, Loss=0.093554\n",
      "Epoch 78, Itrs 231066/297500, Loss=0.095269\n",
      "Epoch 78, Itrs 231363/297500, Loss=0.094775\n",
      "Epoch 78, Itrs 231660/297500, Loss=0.096803\n",
      "Epoch 78, Itrs 231957/297500, Loss=0.096515\n",
      "Model saved as checkpoints/latest_mae_segmenter_vit_base_mask_cityscapes_os16.pth\n",
      "validation...\n"
     ]
    },
    {
     "name": "stderr",
     "output_type": "stream",
     "text": [
      "500it [02:07,  3.91it/s]\n"
     ]
    },
    {
     "name": "stdout",
     "output_type": "stream",
     "text": [
      "\n",
      "Overall Acc: 0.952990\n",
      "Mean Acc: 0.821318\n",
      "FreqW Acc: 0.915223\n",
      "Mean IoU: 0.733795\n",
      "\n",
      "Epoch 79, Itrs 232254/297500, Loss=0.103166\n",
      "Epoch 79, Itrs 232551/297500, Loss=0.096279\n",
      "Epoch 79, Itrs 232848/297500, Loss=0.095437\n",
      "Epoch 79, Itrs 233145/297500, Loss=0.095673\n",
      "Epoch 79, Itrs 233442/297500, Loss=0.094702\n",
      "Epoch 79, Itrs 233739/297500, Loss=0.093172\n",
      "Epoch 79, Itrs 234036/297500, Loss=0.094700\n",
      "Epoch 79, Itrs 234333/297500, Loss=0.094465\n",
      "Epoch 79, Itrs 234630/297500, Loss=0.092364\n",
      "Epoch 79, Itrs 234927/297500, Loss=0.094895\n",
      "Model saved as checkpoints/latest_mae_segmenter_vit_base_mask_cityscapes_os16.pth\n",
      "validation...\n"
     ]
    },
    {
     "name": "stderr",
     "output_type": "stream",
     "text": [
      "500it [02:08,  3.90it/s]\n"
     ]
    },
    {
     "name": "stdout",
     "output_type": "stream",
     "text": [
      "\n",
      "Overall Acc: 0.957318\n",
      "Mean Acc: 0.821401\n",
      "FreqW Acc: 0.921135\n",
      "Mean IoU: 0.750580\n",
      "\n",
      "Epoch 80, Itrs 235224/297500, Loss=0.094280\n",
      "Epoch 80, Itrs 235521/297500, Loss=0.092430\n",
      "Epoch 80, Itrs 235818/297500, Loss=0.094416\n",
      "Epoch 80, Itrs 236115/297500, Loss=0.098404\n",
      "Epoch 80, Itrs 236412/297500, Loss=0.098686\n",
      "Epoch 80, Itrs 236709/297500, Loss=0.098709\n",
      "Epoch 80, Itrs 237006/297500, Loss=0.095382\n",
      "Epoch 80, Itrs 237303/297500, Loss=0.093686\n",
      "Epoch 80, Itrs 237600/297500, Loss=0.095405\n",
      "Epoch 80, Itrs 237897/297500, Loss=0.094612\n",
      "Model saved as checkpoints/latest_mae_segmenter_vit_base_mask_cityscapes_os16.pth\n",
      "validation...\n"
     ]
    },
    {
     "name": "stderr",
     "output_type": "stream",
     "text": [
      "500it [02:07,  3.91it/s]\n"
     ]
    },
    {
     "name": "stdout",
     "output_type": "stream",
     "text": [
      "\n",
      "Overall Acc: 0.956265\n",
      "Mean Acc: 0.834482\n",
      "FreqW Acc: 0.919675\n",
      "Mean IoU: 0.751709\n",
      "\n",
      "Epoch 81, Itrs 238194/297500, Loss=0.096762\n",
      "Epoch 81, Itrs 238491/297500, Loss=0.093351\n",
      "Epoch 81, Itrs 238788/297500, Loss=0.092222\n",
      "Epoch 81, Itrs 239085/297500, Loss=0.092127\n",
      "Epoch 81, Itrs 239382/297500, Loss=0.099076\n",
      "Epoch 81, Itrs 239679/297500, Loss=0.094378\n",
      "Epoch 81, Itrs 239976/297500, Loss=0.095695\n",
      "Epoch 81, Itrs 240273/297500, Loss=0.094098\n",
      "Epoch 81, Itrs 240570/297500, Loss=0.094367\n",
      "Epoch 81, Itrs 240867/297500, Loss=0.096045\n",
      "Model saved as checkpoints/latest_mae_segmenter_vit_base_mask_cityscapes_os16.pth\n",
      "validation...\n"
     ]
    },
    {
     "name": "stderr",
     "output_type": "stream",
     "text": [
      "500it [02:07,  3.93it/s]\n"
     ]
    },
    {
     "name": "stdout",
     "output_type": "stream",
     "text": [
      "\n",
      "Overall Acc: 0.955827\n",
      "Mean Acc: 0.824049\n",
      "FreqW Acc: 0.918531\n",
      "Mean IoU: 0.751479\n",
      "\n",
      "Epoch 82, Itrs 241164/297500, Loss=0.094287\n",
      "Epoch 82, Itrs 241461/297500, Loss=0.092878\n",
      "Epoch 82, Itrs 241758/297500, Loss=0.095825\n",
      "Epoch 82, Itrs 242055/297500, Loss=0.095660\n",
      "Epoch 82, Itrs 242352/297500, Loss=0.096615\n",
      "Epoch 82, Itrs 242649/297500, Loss=0.093041\n",
      "Epoch 82, Itrs 242946/297500, Loss=0.089504\n",
      "Epoch 82, Itrs 243243/297500, Loss=0.100834\n",
      "Epoch 82, Itrs 243540/297500, Loss=0.092611\n",
      "Epoch 82, Itrs 243837/297500, Loss=0.093263\n",
      "Model saved as checkpoints/latest_mae_segmenter_vit_base_mask_cityscapes_os16.pth\n",
      "validation...\n"
     ]
    },
    {
     "name": "stderr",
     "output_type": "stream",
     "text": [
      "500it [02:07,  3.93it/s]\n"
     ]
    },
    {
     "name": "stdout",
     "output_type": "stream",
     "text": [
      "\n",
      "Overall Acc: 0.956311\n",
      "Mean Acc: 0.822832\n",
      "FreqW Acc: 0.919508\n",
      "Mean IoU: 0.743103\n",
      "\n",
      "Epoch 83, Itrs 244134/297500, Loss=0.096900\n",
      "Epoch 83, Itrs 244431/297500, Loss=0.093330\n",
      "Epoch 83, Itrs 244728/297500, Loss=0.091976\n",
      "Epoch 83, Itrs 245025/297500, Loss=0.093533\n",
      "Epoch 83, Itrs 245322/297500, Loss=0.093522\n",
      "Epoch 83, Itrs 245619/297500, Loss=0.090979\n",
      "Epoch 83, Itrs 245916/297500, Loss=0.094626\n",
      "Epoch 83, Itrs 246213/297500, Loss=0.095127\n",
      "Epoch 83, Itrs 246510/297500, Loss=0.098083\n",
      "Epoch 83, Itrs 246807/297500, Loss=0.097913\n",
      "Model saved as checkpoints/latest_mae_segmenter_vit_base_mask_cityscapes_os16.pth\n",
      "validation...\n"
     ]
    },
    {
     "name": "stderr",
     "output_type": "stream",
     "text": [
      "500it [02:08,  3.91it/s]\n"
     ]
    },
    {
     "name": "stdout",
     "output_type": "stream",
     "text": [
      "\n",
      "Overall Acc: 0.956599\n",
      "Mean Acc: 0.832964\n",
      "FreqW Acc: 0.919970\n",
      "Mean IoU: 0.753392\n",
      "\n",
      "Epoch 84, Itrs 247104/297500, Loss=0.094248\n",
      "Epoch 84, Itrs 247401/297500, Loss=0.092259\n",
      "Epoch 84, Itrs 247698/297500, Loss=0.093315\n",
      "Epoch 84, Itrs 247995/297500, Loss=0.100295\n",
      "Epoch 84, Itrs 248292/297500, Loss=0.093497\n",
      "Epoch 84, Itrs 248589/297500, Loss=0.095639\n",
      "Epoch 84, Itrs 248886/297500, Loss=0.090135\n",
      "Epoch 84, Itrs 249183/297500, Loss=0.095581\n",
      "Epoch 84, Itrs 249480/297500, Loss=0.093839\n",
      "Epoch 84, Itrs 249777/297500, Loss=0.093854\n",
      "Model saved as checkpoints/latest_mae_segmenter_vit_base_mask_cityscapes_os16.pth\n",
      "validation...\n"
     ]
    },
    {
     "name": "stderr",
     "output_type": "stream",
     "text": [
      "500it [02:07,  3.91it/s]\n"
     ]
    },
    {
     "name": "stdout",
     "output_type": "stream",
     "text": [
      "\n",
      "Overall Acc: 0.956772\n",
      "Mean Acc: 0.835337\n",
      "FreqW Acc: 0.920425\n",
      "Mean IoU: 0.755374\n",
      "\n",
      "Epoch 85, Itrs 250074/297500, Loss=0.093866\n",
      "Epoch 85, Itrs 250371/297500, Loss=0.095201\n",
      "Epoch 85, Itrs 250668/297500, Loss=0.092272\n",
      "Epoch 85, Itrs 250965/297500, Loss=0.094277\n",
      "Epoch 85, Itrs 251262/297500, Loss=0.090835\n",
      "Epoch 85, Itrs 251559/297500, Loss=0.093500\n",
      "Epoch 85, Itrs 251856/297500, Loss=0.091056\n",
      "Epoch 85, Itrs 252153/297500, Loss=0.094188\n",
      "Epoch 85, Itrs 252450/297500, Loss=0.093802\n",
      "Epoch 85, Itrs 252747/297500, Loss=0.094456\n",
      "Model saved as checkpoints/latest_mae_segmenter_vit_base_mask_cityscapes_os16.pth\n",
      "validation...\n"
     ]
    },
    {
     "name": "stderr",
     "output_type": "stream",
     "text": [
      "500it [02:07,  3.91it/s]\n"
     ]
    },
    {
     "name": "stdout",
     "output_type": "stream",
     "text": [
      "\n",
      "Overall Acc: 0.956334\n",
      "Mean Acc: 0.825619\n",
      "FreqW Acc: 0.919390\n",
      "Mean IoU: 0.752427\n",
      "\n",
      "Epoch 86, Itrs 253044/297500, Loss=0.091619\n",
      "Epoch 86, Itrs 253341/297500, Loss=0.090626\n",
      "Epoch 86, Itrs 253638/297500, Loss=0.093026\n",
      "Epoch 86, Itrs 253935/297500, Loss=0.093922\n",
      "Epoch 86, Itrs 254232/297500, Loss=0.094041\n",
      "Epoch 86, Itrs 254529/297500, Loss=0.090537\n",
      "Epoch 86, Itrs 254826/297500, Loss=0.095397\n",
      "Epoch 86, Itrs 255123/297500, Loss=0.095083\n",
      "Epoch 86, Itrs 255420/297500, Loss=0.091242\n",
      "Epoch 86, Itrs 255717/297500, Loss=0.094103\n",
      "Model saved as checkpoints/latest_mae_segmenter_vit_base_mask_cityscapes_os16.pth\n",
      "validation...\n"
     ]
    },
    {
     "name": "stderr",
     "output_type": "stream",
     "text": [
      "500it [02:07,  3.92it/s]\n"
     ]
    },
    {
     "name": "stdout",
     "output_type": "stream",
     "text": [
      "\n",
      "Overall Acc: 0.956883\n",
      "Mean Acc: 0.822742\n",
      "FreqW Acc: 0.920418\n",
      "Mean IoU: 0.750649\n",
      "\n",
      "Epoch 87, Itrs 256014/297500, Loss=0.093726\n",
      "Epoch 87, Itrs 256311/297500, Loss=0.092998\n",
      "Epoch 87, Itrs 256608/297500, Loss=0.097150\n",
      "Epoch 87, Itrs 256905/297500, Loss=0.095882\n",
      "Epoch 87, Itrs 257202/297500, Loss=0.091991\n",
      "Epoch 87, Itrs 257499/297500, Loss=0.092999\n",
      "Epoch 87, Itrs 257796/297500, Loss=0.094307\n",
      "Epoch 87, Itrs 258093/297500, Loss=0.096980\n",
      "Epoch 87, Itrs 258390/297500, Loss=0.092247\n",
      "Epoch 87, Itrs 258687/297500, Loss=0.092841\n",
      "Model saved as checkpoints/latest_mae_segmenter_vit_base_mask_cityscapes_os16.pth\n",
      "validation...\n"
     ]
    },
    {
     "name": "stderr",
     "output_type": "stream",
     "text": [
      "500it [02:07,  3.92it/s]\n"
     ]
    },
    {
     "name": "stdout",
     "output_type": "stream",
     "text": [
      "\n",
      "Overall Acc: 0.956429\n",
      "Mean Acc: 0.830669\n",
      "FreqW Acc: 0.919563\n",
      "Mean IoU: 0.753930\n",
      "\n",
      "Epoch 88, Itrs 258984/297500, Loss=0.093980\n",
      "Epoch 88, Itrs 259281/297500, Loss=0.092125\n",
      "Epoch 88, Itrs 259578/297500, Loss=0.096242\n",
      "Epoch 88, Itrs 259875/297500, Loss=0.097027\n",
      "Epoch 88, Itrs 260172/297500, Loss=0.095396\n",
      "Epoch 88, Itrs 260469/297500, Loss=0.092301\n",
      "Epoch 88, Itrs 260766/297500, Loss=0.092453\n",
      "Epoch 88, Itrs 261063/297500, Loss=0.092103\n",
      "Epoch 88, Itrs 261360/297500, Loss=0.096600\n",
      "Epoch 88, Itrs 261657/297500, Loss=0.092514\n",
      "Model saved as checkpoints/latest_mae_segmenter_vit_base_mask_cityscapes_os16.pth\n",
      "validation...\n"
     ]
    },
    {
     "name": "stderr",
     "output_type": "stream",
     "text": [
      "500it [02:07,  3.92it/s]\n"
     ]
    },
    {
     "name": "stdout",
     "output_type": "stream",
     "text": [
      "\n",
      "Overall Acc: 0.956616\n",
      "Mean Acc: 0.824130\n",
      "FreqW Acc: 0.919804\n",
      "Mean IoU: 0.749787\n",
      "\n",
      "Epoch 89, Itrs 261954/297500, Loss=0.092978\n",
      "Epoch 89, Itrs 262251/297500, Loss=0.092521\n",
      "Epoch 89, Itrs 262548/297500, Loss=0.093858\n",
      "Epoch 89, Itrs 262845/297500, Loss=0.098403\n",
      "Epoch 89, Itrs 263142/297500, Loss=0.094729\n",
      "Epoch 89, Itrs 263439/297500, Loss=0.095004\n",
      "Epoch 89, Itrs 263736/297500, Loss=0.093232\n",
      "Epoch 89, Itrs 264033/297500, Loss=0.093052\n",
      "Epoch 89, Itrs 264330/297500, Loss=0.091560\n",
      "Epoch 89, Itrs 264627/297500, Loss=0.093164\n",
      "Model saved as checkpoints/latest_mae_segmenter_vit_base_mask_cityscapes_os16.pth\n",
      "validation...\n"
     ]
    },
    {
     "name": "stderr",
     "output_type": "stream",
     "text": [
      "500it [02:03,  4.04it/s]\n"
     ]
    },
    {
     "name": "stdout",
     "output_type": "stream",
     "text": [
      "\n",
      "Overall Acc: 0.956725\n",
      "Mean Acc: 0.818237\n",
      "FreqW Acc: 0.920063\n",
      "Mean IoU: 0.744757\n",
      "\n",
      "Epoch 90, Itrs 264924/297500, Loss=0.096659\n",
      "Epoch 90, Itrs 265221/297500, Loss=0.089602\n",
      "Epoch 90, Itrs 265518/297500, Loss=0.097015\n",
      "Epoch 90, Itrs 265815/297500, Loss=0.089976\n",
      "Epoch 90, Itrs 266112/297500, Loss=0.094800\n",
      "Epoch 90, Itrs 266409/297500, Loss=0.091975\n",
      "Epoch 90, Itrs 266706/297500, Loss=0.094876\n",
      "Epoch 90, Itrs 267003/297500, Loss=0.096361\n",
      "Epoch 90, Itrs 267300/297500, Loss=0.094197\n",
      "Epoch 90, Itrs 267597/297500, Loss=0.090550\n",
      "Model saved as checkpoints/latest_mae_segmenter_vit_base_mask_cityscapes_os16.pth\n",
      "validation...\n"
     ]
    },
    {
     "name": "stderr",
     "output_type": "stream",
     "text": [
      "500it [02:09,  3.87it/s]\n"
     ]
    },
    {
     "name": "stdout",
     "output_type": "stream",
     "text": [
      "\n",
      "Overall Acc: 0.956839\n",
      "Mean Acc: 0.817154\n",
      "FreqW Acc: 0.920093\n",
      "Mean IoU: 0.749158\n",
      "\n",
      "Epoch 91, Itrs 267894/297500, Loss=0.090427\n",
      "Epoch 91, Itrs 268191/297500, Loss=0.094097\n",
      "Epoch 91, Itrs 268488/297500, Loss=0.092103\n",
      "Epoch 91, Itrs 268785/297500, Loss=0.090941\n",
      "Epoch 91, Itrs 269082/297500, Loss=0.093106\n",
      "Epoch 91, Itrs 269379/297500, Loss=0.094765\n",
      "Epoch 91, Itrs 269676/297500, Loss=0.096077\n",
      "Epoch 91, Itrs 269973/297500, Loss=0.093271\n",
      "Epoch 91, Itrs 270270/297500, Loss=0.093266\n",
      "Epoch 91, Itrs 270567/297500, Loss=0.096573\n",
      "Model saved as checkpoints/latest_mae_segmenter_vit_base_mask_cityscapes_os16.pth\n",
      "validation...\n"
     ]
    },
    {
     "name": "stderr",
     "output_type": "stream",
     "text": [
      "500it [02:09,  3.85it/s]\n"
     ]
    },
    {
     "name": "stdout",
     "output_type": "stream",
     "text": [
      "\n",
      "Overall Acc: 0.957415\n",
      "Mean Acc: 0.825661\n",
      "FreqW Acc: 0.921262\n",
      "Mean IoU: 0.754653\n",
      "\n",
      "Epoch 92, Itrs 270864/297500, Loss=0.089719\n",
      "Epoch 92, Itrs 271161/297500, Loss=0.096258\n",
      "Epoch 92, Itrs 271458/297500, Loss=0.098222\n",
      "Epoch 92, Itrs 271755/297500, Loss=0.091569\n",
      "Epoch 92, Itrs 272052/297500, Loss=0.089585\n",
      "Epoch 92, Itrs 272349/297500, Loss=0.091559\n",
      "Epoch 92, Itrs 272646/297500, Loss=0.091115\n",
      "Epoch 92, Itrs 272943/297500, Loss=0.088101\n",
      "Epoch 92, Itrs 273240/297500, Loss=0.097212\n",
      "Epoch 92, Itrs 273537/297500, Loss=0.093462\n",
      "Model saved as checkpoints/latest_mae_segmenter_vit_base_mask_cityscapes_os16.pth\n",
      "validation...\n"
     ]
    },
    {
     "name": "stderr",
     "output_type": "stream",
     "text": [
      "500it [02:11,  3.81it/s]\n"
     ]
    },
    {
     "name": "stdout",
     "output_type": "stream",
     "text": [
      "\n",
      "Overall Acc: 0.957147\n",
      "Mean Acc: 0.828476\n",
      "FreqW Acc: 0.920837\n",
      "Mean IoU: 0.754869\n",
      "\n",
      "Epoch 93, Itrs 273834/297500, Loss=0.090774\n",
      "Epoch 93, Itrs 274131/297500, Loss=0.088183\n",
      "Epoch 93, Itrs 274428/297500, Loss=0.088827\n",
      "Epoch 93, Itrs 274725/297500, Loss=0.099252\n",
      "Epoch 93, Itrs 275022/297500, Loss=0.091738\n",
      "Epoch 93, Itrs 275319/297500, Loss=0.092039\n",
      "Epoch 93, Itrs 275616/297500, Loss=0.092369\n",
      "Epoch 93, Itrs 275913/297500, Loss=0.094495\n",
      "Epoch 93, Itrs 276210/297500, Loss=0.089712\n",
      "Epoch 93, Itrs 276507/297500, Loss=0.093649\n",
      "Model saved as checkpoints/latest_mae_segmenter_vit_base_mask_cityscapes_os16.pth\n",
      "validation...\n"
     ]
    },
    {
     "name": "stderr",
     "output_type": "stream",
     "text": [
      "500it [02:08,  3.88it/s]\n"
     ]
    },
    {
     "name": "stdout",
     "output_type": "stream",
     "text": [
      "\n",
      "Overall Acc: 0.956559\n",
      "Mean Acc: 0.813995\n",
      "FreqW Acc: 0.919507\n",
      "Mean IoU: 0.746596\n",
      "\n",
      "Epoch 94, Itrs 276804/297500, Loss=0.090264\n",
      "Epoch 94, Itrs 277101/297500, Loss=0.093334\n",
      "Epoch 94, Itrs 277398/297500, Loss=0.092052\n",
      "Epoch 94, Itrs 277695/297500, Loss=0.093087\n",
      "Epoch 94, Itrs 277992/297500, Loss=0.094674\n",
      "Epoch 94, Itrs 278289/297500, Loss=0.091533\n",
      "Epoch 94, Itrs 278586/297500, Loss=0.093622\n",
      "Epoch 94, Itrs 278883/297500, Loss=0.089487\n",
      "Epoch 94, Itrs 279180/297500, Loss=0.097873\n",
      "Epoch 94, Itrs 279477/297500, Loss=0.089803\n",
      "Model saved as checkpoints/latest_mae_segmenter_vit_base_mask_cityscapes_os16.pth\n",
      "validation...\n"
     ]
    },
    {
     "name": "stderr",
     "output_type": "stream",
     "text": [
      "500it [02:05,  3.98it/s]\n"
     ]
    },
    {
     "name": "stdout",
     "output_type": "stream",
     "text": [
      "\n",
      "Overall Acc: 0.956649\n",
      "Mean Acc: 0.823011\n",
      "FreqW Acc: 0.919686\n",
      "Mean IoU: 0.752443\n",
      "\n",
      "Epoch 95, Itrs 279774/297500, Loss=0.091460\n",
      "Epoch 95, Itrs 280071/297500, Loss=0.090337\n",
      "Epoch 95, Itrs 280368/297500, Loss=0.093664\n",
      "Epoch 95, Itrs 280665/297500, Loss=0.090864\n",
      "Epoch 95, Itrs 280962/297500, Loss=0.090943\n",
      "Epoch 95, Itrs 281259/297500, Loss=0.095891\n",
      "Epoch 95, Itrs 281556/297500, Loss=0.090295\n",
      "Epoch 95, Itrs 281853/297500, Loss=0.094954\n",
      "Epoch 95, Itrs 282150/297500, Loss=0.092915\n",
      "Epoch 95, Itrs 282447/297500, Loss=0.095467\n",
      "Model saved as checkpoints/latest_mae_segmenter_vit_base_mask_cityscapes_os16.pth\n",
      "validation...\n"
     ]
    },
    {
     "name": "stderr",
     "output_type": "stream",
     "text": [
      "49it [00:16,  2.92it/s]"
     ]
    }
   ],
   "source": [
    "if \"train\" in user_selection[\"action\"]:\n",
    "    train(user_selection[\"model\"], user_selection[\"use_ckpt\"]=='true')\n",
    "if \"test\" in user_selection[\"action\"]:\n",
    "    test(user_selection[\"model\"])"
   ]
  },
  {
   "cell_type": "code",
   "execution_count": null,
   "id": "ceb5d3d0",
   "metadata": {},
   "outputs": [],
   "source": []
  }
 ],
 "metadata": {
  "kernelspec": {
   "display_name": "Python [conda env:pytorch] *",
   "language": "python",
   "name": "conda-env-pytorch-py"
  },
  "language_info": {
   "codemirror_mode": {
    "name": "ipython",
    "version": 3
   },
   "file_extension": ".py",
   "mimetype": "text/x-python",
   "name": "python",
   "nbconvert_exporter": "python",
   "pygments_lexer": "ipython3",
   "version": "3.10.13"
  }
 },
 "nbformat": 4,
 "nbformat_minor": 5
}
