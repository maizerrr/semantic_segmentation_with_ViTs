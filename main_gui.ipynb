{
 "cells": [
  {
   "cell_type": "code",
   "execution_count": 1,
   "id": "b5fd3046",
   "metadata": {},
   "outputs": [],
   "source": [
    "import os, sys\n",
    "from IPython.display import HTML, display\n",
    "\n",
    "from main import main"
   ]
  },
  {
   "cell_type": "code",
   "execution_count": 2,
   "id": "b855596b",
   "metadata": {},
   "outputs": [],
   "source": [
    "models = {\n",
    "    'deeplabv3plus_mobilenet': {'batch_size': 32, 'val_batch_size': 32},\n",
    "    'deeplabv3plus_xception': {'batch_size': 16, 'val_batch_size': 16},\n",
    "    'deeplabv3plus_resnet101': {'batch_size': 16, 'val_batch_size': 16},\n",
    "    'segmenter_vit_base': {'batch_size': 1, 'val_batch_size': 1},\n",
    "    'mae_segmenter_vit_base': {'batch_size': 2, 'val_batch_size': 2},\n",
    "    'mae_segmenter_vit_huge': {'batch_size': 1, 'val_batch_size': 1}\n",
    "}"
   ]
  },
  {
   "cell_type": "code",
   "execution_count": 3,
   "id": "029005fb",
   "metadata": {},
   "outputs": [],
   "source": [
    "def train(model, use_ckpt=False):\n",
    "    config = models[model]\n",
    "    ckpt = f\"checkpoints/latest_{model}_cityscapes_os16.pth\"\n",
    "    command = f\"python main.py --model {model} --dataset cityscapes --gpu_id 0 --total_epochs 100 --base_lr 0.01 --loss_type focal_loss --crop_size 768 --batch_size {config['batch_size']} --val_batch_size {config['val_batch_size']} --use_amp --output_stride 16 --data_root ./datasets/data/cityscapes\"\n",
    "    if use_ckpt and os.path.exists(ckpt):\n",
    "        command += f\"--ckpt {ckpt} --continue_training\"\n",
    "    sys.argv = command.split()[1:]\n",
    "    print(\"--------------------------------------------------\")\n",
    "    print(f\"Train model {model} with command:\")\n",
    "    print(command)\n",
    "    print(\"--------------------------------------------------\")\n",
    "    main()\n",
    "    \n",
    "def test(model):\n",
    "    config = models[model]\n",
    "    ckpt = f\"checkpoints/best_{model}_cityscapes_os16.pth\"\n",
    "    if not os.path.exists(ckpt):\n",
    "        print(f\"Test model failed, cannot find trained weights {ckpt}\")\n",
    "    else:\n",
    "        command = f\"python main.py --model {model} --dataset cityscapes --gpu_id 0 --val_batch_size {config['val_batch_size']} --use_amp --output_stride 16 --data_root ./datasets/data/cityscapes --test_only --ckpt {ckpt}\"\n",
    "        sys.argv = command.split()[1:]\n",
    "        print(\"--------------------------------------------------\")\n",
    "        print(f\"Evaluate model {model} with command:\")\n",
    "        print(command)\n",
    "        print(\"--------------------------------------------------\")\n",
    "        main()"
   ]
  },
  {
   "cell_type": "code",
   "execution_count": 4,
   "id": "27ddc5dc",
   "metadata": {
    "scrolled": true
   },
   "outputs": [
    {
     "data": {
      "text/html": [
       "\n",
       "<div style=\"margin-bottom: 10px;\">\n",
       "  <label for=\"model\">Select Model:</label>\n",
       "  <select id=\"model\">\n",
       "    <option value=\"deeplabv3plus_mobilenet\">deeplabv3plus_mobilenet</option><option value=\"deeplabv3plus_xception\">deeplabv3plus_xception</option><option value=\"deeplabv3plus_resnet101\">deeplabv3plus_resnet101</option><option value=\"segmenter_vit_base\">segmenter_vit_base</option><option value=\"mae_segmenter_vit_base\">mae_segmenter_vit_base</option><option value=\"mae_segmenter_vit_huge\">mae_segmenter_vit_huge</option>\n",
       "  </select>\n",
       "</div>\n",
       "<div style=\"margin-bottom: 10px;\">\n",
       "  <label for=\"ckpt\">Use Checkpoint:</label>\n",
       "  <select id=\"ckpt\">\n",
       "    <option value=\"true\">True</option>\n",
       "    <option value=\"false\">False</option>\n",
       "  </select>\n",
       "</div>\n",
       "<div style=\"margin-bottom: 10px;\">\n",
       "  <label for=\"action\">Select Action:</label>\n",
       "  <select id=\"action\">\n",
       "    <option value=\"train\">Train</option>\n",
       "    <option value=\"test\">Test</option>\n",
       "    <option value=\"train_test\">Train and Test</option>\n",
       "  </select>\n",
       "</div>\n",
       "\n",
       "<script>\n",
       "  document.getElementById('model').onchange = function() {\n",
       "    IPython.notebook.kernel.execute('user_selection[\"model\"] = \"' + this.value + '\"');\n",
       "  };\n",
       "  document.getElementById('ckpt').onchange = function() {\n",
       "    IPython.notebook.kernel.execute('user_selection[\"use_ckpt\"] = \"' + this.value + '\"');\n",
       "  };\n",
       "  document.getElementById('action').onchange = function() {\n",
       "    let ckpt = document.getElementById('ckpt')\n",
       "    if (this.value === 'test') {\n",
       "      ckpt.value = 'false'\n",
       "      ckpt.disabled = true\n",
       "    } else {\n",
       "      ckpt.disabled = false\n",
       "    }\n",
       "    IPython.notebook.kernel.execute('user_selection[\"action\"] = \"' + this.value + '\"');\n",
       "  };\n",
       "</script>\n"
      ],
      "text/plain": [
       "<IPython.core.display.HTML object>"
      ]
     },
     "metadata": {},
     "output_type": "display_data"
    }
   ],
   "source": [
    "user_selection = {\n",
    "    'model': 'mae_segmenter_vit_base',\n",
    "    'use_ckpt': 'false',\n",
    "    'action': 'test'\n",
    "}\n",
    "\n",
    "dropdown_options = \"\"\n",
    "for model in models.keys():\n",
    "    dropdown_options += f'<option value=\"{model}\">{model}</option>'\n",
    "\n",
    "dropdown_menu = f'''\n",
    "<div style=\"margin-bottom: 10px;\">\n",
    "  <label for=\"model\">Select Model:</label>\n",
    "  <select id=\"model\">\n",
    "    {dropdown_options}\n",
    "  </select>\n",
    "</div>\n",
    "<div style=\"margin-bottom: 10px;\">\n",
    "  <label for=\"ckpt\">Use Checkpoint:</label>\n",
    "  <select id=\"ckpt\">\n",
    "    <option value=\"true\">True</option>\n",
    "    <option value=\"false\">False</option>\n",
    "  </select>\n",
    "</div>\n",
    "<div style=\"margin-bottom: 10px;\">\n",
    "  <label for=\"action\">Select Action:</label>\n",
    "  <select id=\"action\">\n",
    "    <option value=\"train\">Train</option>\n",
    "    <option value=\"test\">Test</option>\n",
    "    <option value=\"train_test\">Train and Test</option>\n",
    "  </select>\n",
    "</div>\n",
    "'''\n",
    "\n",
    "dropdown_menu += '''\n",
    "<script>\n",
    "  document.getElementById('model').onchange = function() {\n",
    "    IPython.notebook.kernel.execute('user_selection[\"model\"] = \"' + this.value + '\"');\n",
    "  };\n",
    "  document.getElementById('ckpt').onchange = function() {\n",
    "    IPython.notebook.kernel.execute('user_selection[\"use_ckpt\"] = \"' + this.value + '\"');\n",
    "  };\n",
    "  document.getElementById('action').onchange = function() {\n",
    "    let ckpt = document.getElementById('ckpt')\n",
    "    if (this.value === 'test') {\n",
    "      ckpt.value = 'false'\n",
    "      ckpt.disabled = true\n",
    "    } else {\n",
    "      ckpt.disabled = false\n",
    "    }\n",
    "    IPython.notebook.kernel.execute('user_selection[\"action\"] = \"' + this.value + '\"');\n",
    "  };\n",
    "</script>\n",
    "'''\n",
    "\n",
    "display(HTML(dropdown_menu))"
   ]
  },
  {
   "cell_type": "code",
   "execution_count": null,
   "id": "89f7513e",
   "metadata": {},
   "outputs": [],
   "source": [
    "if \"train\" in user_selection[\"action\"]:\n",
    "    train(user_selection[\"model\"], user_selection[\"use_ckpt\"])\n",
    "if \"test\" in user_selection[\"action\"]:\n",
    "    test(user_selection[\"model\"])"
   ]
  },
  {
   "cell_type": "code",
   "execution_count": null,
   "id": "91d25b08",
   "metadata": {},
   "outputs": [],
   "source": []
  }
 ],
 "metadata": {
  "kernelspec": {
   "display_name": "Python [conda env:pytorch] *",
   "language": "python",
   "name": "conda-env-pytorch-py"
  },
  "language_info": {
   "codemirror_mode": {
    "name": "ipython",
    "version": 3
   },
   "file_extension": ".py",
   "mimetype": "text/x-python",
   "name": "python",
   "nbconvert_exporter": "python",
   "pygments_lexer": "ipython3",
   "version": "3.10.13"
  }
 },
 "nbformat": 4,
 "nbformat_minor": 5
}
