{
 "cells": [
  {
   "cell_type": "code",
   "execution_count": 1,
   "id": "b5fd3046",
   "metadata": {},
   "outputs": [],
   "source": [
    "import os, math"
   ]
  },
  {
   "cell_type": "code",
   "execution_count": 4,
   "id": "b855596b",
   "metadata": {},
   "outputs": [],
   "source": [
    "model = \"swindeeplab_swin_t\"\n",
    "batch_size = 2\n",
    "val_batch_size = 6\n",
    "max_epoch = 100"
   ]
  },
  {
   "cell_type": "code",
   "execution_count": 6,
   "id": "029005fb",
   "metadata": {},
   "outputs": [],
   "source": [
    "model = \"segmenter_vit_deit\"\n",
    "batch_size = 2\n",
    "val_batch_size = 4\n",
    "max_epoch = 100"
   ]
  },
  {
   "cell_type": "code",
   "execution_count": 7,
   "id": "27ddc5dc",
   "metadata": {
    "scrolled": true
   },
   "outputs": [
    {
     "name": "stdout",
     "output_type": "stream",
     "text": [
      "python main.py --model segmenter_vit_deit --dataset cityscapes --gpu_id 0 --total_itrs 148750 --val_interval 1487  --lr 0.1 --loss_type mixed  --crop_size 768 --crop_val --batch_size 2 --val_batch_size 4 --use_amp --output_stride 16 --data_root ./datasets/data/cityscapes\n"
     ]
    }
   ],
   "source": [
    "total_itrs = math.ceil(2975.0*max_epoch/batch_size)\n",
    "val_interval = math.floor(2975.0/batch_size)\n",
    "\n",
    "cmd = f\"python main.py --model {model} --dataset cityscapes --gpu_id 0 --total_itrs {total_itrs} --val_interval {val_interval}  --lr 0.1 --loss_type mixed  --crop_size 768 --crop_val --batch_size {batch_size} --val_batch_size {val_batch_size} --use_amp --output_stride 16 --data_root ./datasets/data/cityscapes\"\n",
    "print(cmd)"
   ]
  },
  {
   "cell_type": "code",
   "execution_count": null,
   "id": "6c6b351a",
   "metadata": {},
   "outputs": [],
   "source": []
  }
 ],
 "metadata": {
  "kernelspec": {
   "display_name": "Python [conda env:pytorch] *",
   "language": "python",
   "name": "conda-env-pytorch-py"
  },
  "language_info": {
   "codemirror_mode": {
    "name": "ipython",
    "version": 3
   },
   "file_extension": ".py",
   "mimetype": "text/x-python",
   "name": "python",
   "nbconvert_exporter": "python",
   "pygments_lexer": "ipython3",
   "version": "3.10.13"
  }
 },
 "nbformat": 4,
 "nbformat_minor": 5
}
